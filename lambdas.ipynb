{
 "cells": [
  {
   "cell_type": "code",
   "execution_count": null,
   "metadata": {},
   "outputs": [],
   "source": [
    "add_lambda = lambda x,y: x+y\n",
    "\n",
    "def add_function(x,y):\n",
    "    return x+y\n",
    "\n",
    "print(add_lambda(3,4))\n",
    "\n",
    "# iterate of a range of 0..4, make a list of tuples of those numbers and their squares, then add the number to its square:\n",
    "print([(add_lambda(x,y), add_function(x,y)) for x,y in [(y,y**2) for y in range(5)]])"
   ]
  },
  {
   "attachments": {},
   "cell_type": "markdown",
   "metadata": {},
   "source": [
    "Why lambdas though?  Lambdas are \"syntactic sugar\" that make coding easier sometimes.\n",
    "\n"
   ]
  },
  {
   "cell_type": "code",
   "execution_count": null,
   "metadata": {},
   "outputs": [],
   "source": [
    "def add(x,y):\n",
    "    return x+y\n",
    "\n",
    "new_add = lambda x,y: x+y\n",
    "\n",
    "print(add(3,4))\n",
    "print(new_add(3,4))"
   ]
  },
  {
   "cell_type": "code",
   "execution_count": null,
   "metadata": {},
   "outputs": [],
   "source": [
    "def multiply(x,y):\n",
    "    return x*y\n",
    "\n",
    "def add(x,y):\n",
    "    return x+y\n",
    "\n",
    "def compose(f1,f2):\n",
    "    return lambda x,y,z: f1(f2(x,y),z)\n",
    "\n",
    "new_function = compose(multiply,add)\n",
    "\n",
    "print(new_function(4,5,6))"
   ]
  },
  {
   "cell_type": "code",
   "execution_count": null,
   "metadata": {},
   "outputs": [],
   "source": [
    "add = lambda x,y: x+y\n",
    "curry = lambda f,_1st: lambda _2nd: f(_1st ,_2nd)\n",
    "\n",
    "add_7 = curry(add,7)\n",
    "print(add_7(3))"
   ]
  },
  {
   "attachments": {},
   "cell_type": "markdown",
   "metadata": {},
   "source": [
    "##Lambda capture rules\n",
    "\n",
    "Lambdas,  like functions can 'capture' variables but you have to be careful!\n"
   ]
  },
  {
   "cell_type": "code",
   "execution_count": null,
   "metadata": {},
   "outputs": [],
   "source": [
    "def build_exponent_functions(number):\n",
    "    return [lambda x: y**x for y in range(number)]\n",
    "\n",
    "functions = build_exponent_functions(5)\n",
    "print ([f(2) for f in functions])"
   ]
  },
  {
   "attachments": {},
   "cell_type": "markdown",
   "metadata": {},
   "source": [
    "How do we fix this?"
   ]
  },
  {
   "cell_type": "code",
   "execution_count": null,
   "metadata": {},
   "outputs": [],
   "source": [
    "def build_exponent_functions(number):\n",
    "    return [lambda x,z=y: z**x for y in range(number)]\n",
    "\n",
    "functions = build_exponent_functions(5)\n",
    "print ([f(2) for f in functions])"
   ]
  },
  {
   "attachments": {},
   "cell_type": "markdown",
   "metadata": {},
   "source": [
    "What's the point of lambdas?\n",
    "Sometimes it's easier to define a function in line."
   ]
  },
  {
   "cell_type": "code",
   "execution_count": null,
   "metadata": {},
   "outputs": [],
   "source": [
    "data = [1,2,3,5,8,13]\n",
    "print ([y for y in map(lambda x: 2**x,data)])"
   ]
  }
 ],
 "metadata": {
  "kernelspec": {
   "display_name": "Python 3",
   "language": "python",
   "name": "python3"
  },
  "language_info": {
   "codemirror_mode": {
    "name": "ipython",
    "version": 3
   },
   "file_extension": ".py",
   "mimetype": "text/x-python",
   "name": "python",
   "nbconvert_exporter": "python",
   "pygments_lexer": "ipython3",
   "version": "3.8.10"
  },
  "orig_nbformat": 4
 },
 "nbformat": 4,
 "nbformat_minor": 2
}
