{
 "cells": [
  {
   "attachments": {},
   "cell_type": "markdown",
   "metadata": {},
   "source": [
    "# Flow control in python\n",
    "\n",
    "Flow control is the order in which code in a program is executed. This entails things such as if-else statements, for loops, while loops, switch cases, and jump statements (break and continue). "
   ]
  },
  {
   "attachments": {},
   "cell_type": "markdown",
   "metadata": {},
   "source": [
    "## Topics in This Notebook:\n",
    "- if/elif/else\n",
    "- ternary operation\n",
    "- for loops\n",
    "- range function\n",
    "- while loops\n",
    "- break\n",
    "- continue\n",
    "- for/else loop\n",
    "- switch statement"
   ]
  },
  {
   "attachments": {},
   "cell_type": "markdown",
   "metadata": {},
   "source": [
    "In Python, indentation maters! It is used to signal that a certain block of code is supposed to be executed conditionally or is a part of a loop. When you indent a block of code, you need to use consistent amount of spaces. Normally, 4 spaces are used to indent blocks of code. Alternatively, tabs also work. DON NOT MIX TABS AND SPACES; this leads to many annoying errors. "
   ]
  },
  {
   "attachments": {},
   "cell_type": "markdown",
   "metadata": {},
   "source": [
    "## if/elif/else\n",
    "\n",
    "In python, we have `if`, `elif`, and `else` statements. `if` executes the given block of indented code is the condition given evaluates to True. \n",
    "\n",
    "If the previous `if` statement did not execute, the code sequentially checks the following `elif` statements.\n",
    "\n",
    "`else` statements executes their code is all previous `if` and `elif` statements did not execute.\n",
    "\n",
    "You can have `elif` statements only if there was an `if` at the beginning of the chain. \n",
    "\n",
    "When one `if` or `elif` statement successfully executes, all following `elif` and `else` are skipped. \n",
    "\n",
    "You do not always need `elif` and/or `else` after an `if` statement. \n",
    "\n",
    "Example 1"
   ]
  },
  {
   "cell_type": "code",
   "execution_count": null,
   "metadata": {},
   "outputs": [],
   "source": [
    "# initiate variables\n",
    "rainy = True\n",
    "cloudy = True\n",
    "\n",
    "# this executes if the variable rainy evaluates to True\n",
    "if rainy: \n",
    "    print(\"It's raining\")\n",
    "elif cloudy:\n",
    "    print(\"it's cloudy\")\n",
    "else:\n",
    "    print(\"it's neither rainy nor cloudy\")"
   ]
  },
  {
   "attachments": {},
   "cell_type": "markdown",
   "metadata": {},
   "source": [
    "Example 2"
   ]
  },
  {
   "cell_type": "code",
   "execution_count": null,
   "metadata": {},
   "outputs": [],
   "source": [
    "# initiate variables\n",
    "my_age = 16\n",
    "other_age = 15\n",
    "\n",
    "# comparing the ages\n",
    "if other_age == my_age:\n",
    "    print(\"the other person is the same age as me\")\n",
    "elif other_age > my_age:\n",
    "    print(\"the other person is older than me\")\n",
    "else:\n",
    "    print(\"the other person is younger than me\")"
   ]
  },
  {
   "attachments": {},
   "cell_type": "markdown",
   "metadata": {},
   "source": [
    "Exercise 1\n",
    "\n",
    "complete the program with if/elif/else conditions such that:\n",
    "\n",
    "\"yay\" is printed when `a` is greater or equal to `b`\n",
    "\n",
    "\"yippee\" is printed if `a` is greater than or equal to `b` and `c` ia less than `b`\n",
    "\n",
    "\"equilibrium\" is printed if `a`, `b`, and `c` all have the same value\n",
    "\n",
    "\"nay\" is printed in all other cases"
   ]
  },
  {
   "cell_type": "code",
   "execution_count": 2,
   "metadata": {},
   "outputs": [],
   "source": [
    "# change these values around to test the program\n",
    "a = 4\n",
    "b = 4\n",
    "c = 4\n",
    "\n",
    "# implement your code here: "
   ]
  },
  {
   "attachments": {},
   "cell_type": "markdown",
   "metadata": {},
   "source": [
    "## Ternary operation\n",
    "\n",
    "Ternary operations, or ternary operators, evaluate a value based on a condition of being true or false. \n",
    "\n",
    "It serves the same functionality as a multi-line `if` and `else` code, but in a single line.\n",
    "\n",
    "variable = [value on true] if [condition ] else [value on false]\n",
    "\n",
    "Example 1"
   ]
  },
  {
   "cell_type": "code",
   "execution_count": null,
   "metadata": {},
   "outputs": [],
   "source": [
    "# initiate variables\n",
    "a = 10\n",
    "b = 20\n",
    "\n",
    "# get the greater value among a and b\n",
    "max = a if a > b else b\n",
    "\n",
    "#equivalent if and else code:\n",
    "\"\"\"\n",
    "if a > b:\n",
    "    max = a\n",
    "else\n",
    "    max = b\n",
    "\"\"\"\n",
    "    "
   ]
  },
  {
   "attachments": {},
   "cell_type": "markdown",
   "metadata": {},
   "source": [
    "Example 2"
   ]
  },
  {
   "cell_type": "code",
   "execution_count": null,
   "metadata": {},
   "outputs": [],
   "source": [
    "# initiate variables\n",
    "height_1 = 70\n",
    "height_2 = 80\n",
    "\n",
    "#compare height_1 and height_2 and print the result\n",
    "print(\"1 is the same height as 2\" if height_1 == height_2 else \"1 is taller than 2\" if height_1 > height_2 else \"2 is greater than 1\")\n",
    "\n",
    "#equivalent if and else code:\n",
    "\"\"\"\n",
    "if height_1 == height_2:\n",
    "    print(\"1 is the same height as 2\")\n",
    "elif height_1 > height_2:\n",
    "    print(\"1 is taller than 2\")\n",
    "else:\n",
    "    print(\"2 ia taller than 1\")\n",
    "\"\"\""
   ]
  },
  {
   "attachments": {},
   "cell_type": "markdown",
   "metadata": {},
   "source": [
    "Exercise\n",
    "\n",
    "write a ternary statement such that:\n",
    "\n",
    "0 is printed if `a`, `b`, and `c` have the same values\n",
    "1 is printed if `a` is greater than `b`\n",
    "-1 is printed if `c` is greater than `a`"
   ]
  },
  {
   "cell_type": "code",
   "execution_count": null,
   "metadata": {},
   "outputs": [],
   "source": [
    "# change these values around to test the program\n",
    "\n",
    "a = 14\n",
    "b = 17\n",
    "c = 14\n",
    "\n",
    "# implement your code here:\n"
   ]
  },
  {
   "attachments": {},
   "cell_type": "markdown",
   "metadata": {},
   "source": [
    "## for loop\n",
    "\n",
    "In python, a for loop is often used to iterate through an iterable (such as a list). \n",
    "\n",
    "```\n",
    "for i in my_list: \n",
    "    #code\n",
    "```\n",
    "In the above code, `i` would take on the value of each element in `my_list` in every iteration of the loop.\n",
    "\n",
    "Example 1"
   ]
  },
  {
   "cell_type": "code",
   "execution_count": null,
   "metadata": {},
   "outputs": [],
   "source": [
    "# initiate example list\n",
    "\n",
    "my_list = [3, 5, 8, 1, 6, 2]\n",
    "\n",
    "# iterate through the list with a for loop:\n",
    "for i in my_list:\n",
    "    print(i)"
   ]
  },
  {
   "attachments": {},
   "cell_type": "markdown",
   "metadata": {},
   "source": [
    "Example 2"
   ]
  },
  {
   "cell_type": "code",
   "execution_count": null,
   "metadata": {},
   "outputs": [],
   "source": [
    "# initiate example list\n",
    "\n",
    "my_list = [3, 4, 7, 3, 4, 2, 1, 9]\n",
    "\n",
    "# remove all even elements from the list\n",
    "for i in my_list:\n",
    "    if i%2 == 0:\n",
    "        # remove i from the list if it is even\n",
    "        my_list.remove(i)"
   ]
  },
  {
   "attachments": {},
   "cell_type": "markdown",
   "metadata": {},
   "source": [
    "Exercise\n",
    "\n",
    "given a list of strings:\n",
    "iterate through the list, and add it to a dictionary, where the key is the index that the string is located.\n",
    "\n",
    "ie. [\"hello\", \"world\", \"bye\"] -> {0: \"hello\", 1: \"world\", 2: \"bye\"}"
   ]
  },
  {
   "cell_type": "code",
   "execution_count": null,
   "metadata": {},
   "outputs": [],
   "source": [
    "# initiate the list, feel free to change the strings\n",
    "my_list = [\"this\", \"is\", \"a\", \"test\", \"program\"]\n",
    "\n",
    "# implement your code here:"
   ]
  },
  {
   "attachments": {},
   "cell_type": "markdown",
   "metadata": {},
   "source": [
    "## range function\n",
    "\n",
    "The `range()` function in python returns a sequence of numbers when called, starting at 0 by default, incrementing by 1 each time by default, and stops before a certain number.\n",
    "\n",
    "There are 3 parameters: start, stop, step.\n",
    "\n",
    "start and step have default parameters: starting at 0, and a step size of 1, but can be customized.\n",
    "\n",
    "stop is a required parameter, and the loop stops at the (stop-1) value. \n",
    "\n",
    "Example 1"
   ]
  },
  {
   "cell_type": "code",
   "execution_count": null,
   "metadata": {},
   "outputs": [],
   "source": [
    "# for loop with only stop argument\n",
    "\n",
    "for i in range(10):\n",
    "    print(i)\n",
    "    \n",
    "# this will print the numbers 0 to 9"
   ]
  },
  {
   "attachments": {},
   "cell_type": "markdown",
   "metadata": {},
   "source": [
    "Example 2"
   ]
  },
  {
   "cell_type": "code",
   "execution_count": null,
   "metadata": {},
   "outputs": [],
   "source": [
    "# for loop with start and stop argument\n",
    "\n",
    "my_list = [3, 4, 6, 7, 1, 0, 2, 5, 7, 8, 10, 14, 3, 19]\n",
    "\n",
    "for i in range(5, 10):\n",
    "    print(i)\n",
    "\n",
    "# this will print the numbers 5 to 9\n",
    "\n",
    "\n",
    "\n",
    "my_list = [3, 4, 6, 7, 1, 0, 2, 5, 7, 8, 10, 14, 3, 19]\n",
    "for i in range(7, len(my_list)):\n",
    "    print(my_list[i])\n",
    "\n",
    "# the range function can also be used to iterate through iterables"
   ]
  },
  {
   "attachments": {},
   "cell_type": "markdown",
   "metadata": {},
   "source": [
    "Example 3"
   ]
  },
  {
   "cell_type": "code",
   "execution_count": null,
   "metadata": {},
   "outputs": [],
   "source": [
    "# for loop with start, stop, and step argument\n",
    "\n",
    "for i in range(20, 1000, 20):\n",
    "    print(i)\n",
    "    \n",
    "# this will start at 20 and increment by 20 until it reaches 1000: 20, 40, 60, 80, ..., 980\n",
    "# notice how 1000 is not printed"
   ]
  },
  {
   "attachments": {},
   "cell_type": "markdown",
   "metadata": {},
   "source": [
    "Exercise \n",
    "\n",
    "Given a list of strings, use a for loop with `range()` function to iterate through the indices of the list, if the string at that index is \"croissant\", change it to \"quaso\"."
   ]
  },
  {
   "cell_type": "code",
   "execution_count": null,
   "metadata": {},
   "outputs": [],
   "source": [
    "# initiate the list\n",
    "my_list = [\"today\", \"I\", \"wanted\", \"to\", \"eat\", \"a\", \"croissant\", \n",
    "           \"so\", \"I\", \"went\", \"to\", \"a\", \"place\", \"that\", \"sells\", \"a\", \"croissant\", \n",
    "           \"and\", \"I\", \"bought\", \"a\", \"croissant\"]\n",
    "\n",
    "# implement the for loop here"
   ]
  },
  {
   "attachments": {},
   "cell_type": "markdown",
   "metadata": {},
   "source": [
    "## while loops\n",
    "\n",
    "Another loop that is used in python is the while loop. It will continue to loop the indented code as long as the condition given remains True. \n",
    "\n",
    "While loops can be used for iteration similar to for loops, and also other applications such as waiting for a sensor value to exceed a certain threshold.\n",
    "\n",
    "It is important to make sure that the condition of the loop will be met eventually, as otherwise an infinite while loop will be created.\n",
    "\n",
    "Example 1"
   ]
  },
  {
   "cell_type": "code",
   "execution_count": null,
   "metadata": {},
   "outputs": [],
   "source": [
    "# iterating over a list using a while loop\n",
    "\n",
    "# initiate example list\n",
    "my_list = [3, 4, 7, 3, 4, 2, 1, 9]\n",
    "\n",
    "# index of the loop\n",
    "i = 0\n",
    "\n",
    "# print content of list\n",
    "while i < len(my_list):\n",
    "    print(my_list[i])\n",
    "    i += 1"
   ]
  },
  {
   "attachments": {},
   "cell_type": "markdown",
   "metadata": {},
   "source": [
    "Example 2"
   ]
  },
  {
   "cell_type": "code",
   "execution_count": 3,
   "metadata": {},
   "outputs": [
    {
     "name": "stdout",
     "output_type": "stream",
     "text": [
      "value found: 33\n",
      "value found: 57\n",
      "value found: 84\n"
     ]
    }
   ],
   "source": [
    "# iterate from 1 to 100, and print if the value is in a list\n",
    "\n",
    "my_list = [33, 57, 84]\n",
    "\n",
    "# initiate test value\n",
    "i = 0\n",
    "while(i <= 100):\n",
    "    # is the i value in my_list?\n",
    "    if i in my_list:\n",
    "        print(f\"value found: {i}\")\n",
    "    i += 1"
   ]
  },
  {
   "attachments": {},
   "cell_type": "markdown",
   "metadata": {},
   "source": [
    "Exercise\n",
    "\n",
    "given a string, iterate through the string using a while loop, and print each character in the string one by one. "
   ]
  },
  {
   "cell_type": "code",
   "execution_count": null,
   "metadata": {},
   "outputs": [],
   "source": [
    "# test string, feel free to change this\n",
    "test = \"hello I am learning python\"\n",
    "\n",
    "# implement while loop here"
   ]
  },
  {
   "attachments": {},
   "cell_type": "markdown",
   "metadata": {},
   "source": [
    "## break\n",
    "\n",
    "A `break` statement can be used inside any loops, and would immediately stop the execution of the loop, and go to the code that comes after the loop.\n",
    "\n",
    "Example 1"
   ]
  },
  {
   "cell_type": "code",
   "execution_count": null,
   "metadata": {},
   "outputs": [],
   "source": [
    "for i in range(20):\n",
    "    if i == 7:\n",
    "        print(i)\n",
    "        break\n",
    "    \n",
    "print(\"outside look now :o\")\n",
    "\n",
    "# the break statement ends the for loop when i equals 7"
   ]
  },
  {
   "attachments": {},
   "cell_type": "markdown",
   "metadata": {},
   "source": [
    "Example 2"
   ]
  },
  {
   "cell_type": "code",
   "execution_count": null,
   "metadata": {},
   "outputs": [],
   "source": [
    "# initiate variables\n",
    "i = 0\n",
    "black_list = [31, 73]\n",
    "\n",
    "\n",
    "while i < 100:\n",
    "    if i in black_list:\n",
    "        print(f\"black list value {i} found\")\n",
    "        break\n",
    "\n",
    "# the break statement triggers if i is one of the values in black_list"
   ]
  },
  {
   "attachments": {},
   "cell_type": "markdown",
   "metadata": {},
   "source": [
    "Exercise \n",
    "\n",
    "Iterate through a list using any loop, and if the index of the element equals the value of the element, break out of the loop."
   ]
  },
  {
   "cell_type": "code",
   "execution_count": null,
   "metadata": {},
   "outputs": [],
   "source": [
    "# initiate the list\n",
    "my_list = [2, 5, 6, 7, 4, 6, 9]\n",
    "\n",
    "# implement your code here"
   ]
  },
  {
   "attachments": {},
   "cell_type": "markdown",
   "metadata": {},
   "source": [
    "## continue \n",
    "\n",
    "The `continue` statement forces the loop to go to the next iteration immediately, skipping any code in the loop that comes after the `continue` statement. \n",
    "\n",
    "Example 1"
   ]
  },
  {
   "cell_type": "code",
   "execution_count": 5,
   "metadata": {},
   "outputs": [
    {
     "name": "stdout",
     "output_type": "stream",
     "text": [
      "bruh what is an odd number like 1 doing here?\n",
      "bruh what is an odd number like 3 doing here?\n",
      "bruh what is an odd number like 5 doing here?\n",
      "bruh what is an odd number like 7 doing here?\n",
      "bruh what is an odd number like 9 doing here?\n",
      "bruh what is an odd number like 11 doing here?\n",
      "bruh what is an odd number like 13 doing here?\n",
      "bruh what is an odd number like 15 doing here?\n",
      "bruh what is an odd number like 17 doing here?\n",
      "bruh what is an odd number like 19 doing here?\n",
      "bruh what is an odd number like 21 doing here?\n",
      "bruh what is an odd number like 23 doing here?\n",
      "bruh what is an odd number like 25 doing here?\n",
      "bruh what is an odd number like 27 doing here?\n",
      "bruh what is an odd number like 29 doing here?\n"
     ]
    }
   ],
   "source": [
    "for i in range(30):\n",
    "    if i%2 == 0:\n",
    "        continue\n",
    "    print(f\"bruh what is an odd number like {i} doing here?\")\n",
    "    \n",
    "# if i is an even number, the code immediately goes to the next iteration of the loop, skipping the print statement"
   ]
  },
  {
   "attachments": {},
   "cell_type": "markdown",
   "metadata": {},
   "source": [
    "Example 2"
   ]
  },
  {
   "cell_type": "code",
   "execution_count": 5,
   "metadata": {},
   "outputs": [
    {
     "name": "stdout",
     "output_type": "stream",
     "text": [
      "i (0) and j (1) are not the same waaaaaaaaaaaaaaaaaaaaaaaaaaaaaa\n",
      "i (0) and j (2) are not the same waaaaaaaaaaaaaaaaaaaaaaaaaaaaaa\n",
      "i (0) and j (3) are not the same waaaaaaaaaaaaaaaaaaaaaaaaaaaaaa\n",
      "i (0) and j (4) are not the same waaaaaaaaaaaaaaaaaaaaaaaaaaaaaa\n",
      "i (0) and j (5) are not the same waaaaaaaaaaaaaaaaaaaaaaaaaaaaaa\n",
      "i (1) and j (0) are not the same waaaaaaaaaaaaaaaaaaaaaaaaaaaaaa\n",
      "i (1) and j (2) are not the same waaaaaaaaaaaaaaaaaaaaaaaaaaaaaa\n",
      "i (1) and j (3) are not the same waaaaaaaaaaaaaaaaaaaaaaaaaaaaaa\n",
      "i (1) and j (4) are not the same waaaaaaaaaaaaaaaaaaaaaaaaaaaaaa\n",
      "i (1) and j (5) are not the same waaaaaaaaaaaaaaaaaaaaaaaaaaaaaa\n",
      "i (2) and j (0) are not the same waaaaaaaaaaaaaaaaaaaaaaaaaaaaaa\n",
      "i (2) and j (1) are not the same waaaaaaaaaaaaaaaaaaaaaaaaaaaaaa\n",
      "i (2) and j (3) are not the same waaaaaaaaaaaaaaaaaaaaaaaaaaaaaa\n",
      "i (2) and j (4) are not the same waaaaaaaaaaaaaaaaaaaaaaaaaaaaaa\n",
      "i (2) and j (5) are not the same waaaaaaaaaaaaaaaaaaaaaaaaaaaaaa\n",
      "i (3) and j (0) are not the same waaaaaaaaaaaaaaaaaaaaaaaaaaaaaa\n",
      "i (3) and j (1) are not the same waaaaaaaaaaaaaaaaaaaaaaaaaaaaaa\n",
      "i (3) and j (2) are not the same waaaaaaaaaaaaaaaaaaaaaaaaaaaaaa\n",
      "i (3) and j (4) are not the same waaaaaaaaaaaaaaaaaaaaaaaaaaaaaa\n",
      "i (3) and j (5) are not the same waaaaaaaaaaaaaaaaaaaaaaaaaaaaaa\n"
     ]
    }
   ],
   "source": [
    "i = 0\n",
    "while i < 4:\n",
    "    for j in range(6):\n",
    "        if i == j:\n",
    "            continue\n",
    "        print(f\"i ({i}) and j ({j}) are not the same waaaaaaaaaaaaaaaaaaaaaaaaaaaaaa\")\n",
    "    # embedded for loop\n",
    "    i += 1\n",
    "        \n",
    "# the continue statement triggers when i and j are the same, forcing the for loop to go the next iteration immediately, \n",
    "# preventing the following statement from being printed"
   ]
  },
  {
   "attachments": {},
   "cell_type": "markdown",
   "metadata": {},
   "source": [
    "Exercise\n",
    "\n",
    "Iterate through a given string, if the character at a given index is 'e', do not print that character."
   ]
  },
  {
   "cell_type": "code",
   "execution_count": null,
   "metadata": {},
   "outputs": [],
   "source": [
    "# initiate string, feel free to change it\n",
    "my_string = \"the weather today is so bad it is scorching outside!\"\n",
    "\n",
    "# implement your code here"
   ]
  },
  {
   "attachments": {},
   "cell_type": "markdown",
   "metadata": {},
   "source": [
    "## for/else"
   ]
  },
  {
   "attachments": {},
   "cell_type": "markdown",
   "metadata": {},
   "source": [
    "In python, for loops can be used with an else statement. The else statement will only execute if the for loop doesn't break."
   ]
  },
  {
   "attachments": {},
   "cell_type": "markdown",
   "metadata": {},
   "source": [
    "Example 1:"
   ]
  },
  {
   "cell_type": "code",
   "execution_count": null,
   "metadata": {},
   "outputs": [],
   "source": [
    "item_list = [\"juice\", \"cherry\", \"apple\", \"pineapple\"]\n",
    "desired_item = \"nonexistent\"\n",
    "\n",
    "# iterate through all the items in item_list\n",
    "for item in item_list:\n",
    "    if item == desired_item:\n",
    "        print(f\"Located {desired_item}\")\n",
    "        break\n",
    "# this else will occur since the for loop doesn't break\n",
    "else:\n",
    "    print(f\"unfortunately, unable to find {desired_item}\")"
   ]
  },
  {
   "attachments": {},
   "cell_type": "markdown",
   "metadata": {},
   "source": [
    "Example 2:"
   ]
  },
  {
   "cell_type": "code",
   "execution_count": null,
   "metadata": {},
   "outputs": [],
   "source": [
    "# find if the letter \"h\" is in a list of words\n",
    "letters = \"hello world\"\n",
    "\n",
    "for letter in letters:\n",
    "    if letter == \"h\":\n",
    "        print(\"found it!\")\n",
    "        break\n",
    "else:\n",
    "    print(\"this won't execute since there's an h\")"
   ]
  },
  {
   "attachments": {},
   "cell_type": "markdown",
   "metadata": {},
   "source": [
    "Exercise:\n",
    "\n",
    "Given the below list of numbers, print out whether all of them are odd or not using a for/else structure\n",
    "\n",
    "ie. [1, 3, 5] -> \"all odd\"\n",
    "ie. [1, 3, 6] -> \"not all odd "
   ]
  },
  {
   "cell_type": "code",
   "execution_count": null,
   "metadata": {},
   "outputs": [],
   "source": [
    "# initiate the list, feel free to change the numbers\n",
    "numbers = [1, 3, 5]\n",
    "\n",
    "# implement your code here"
   ]
  },
  {
   "attachments": {},
   "cell_type": "markdown",
   "metadata": {},
   "source": [
    "## Switch Statement"
   ]
  },
  {
   "attachments": {},
   "cell_type": "markdown",
   "metadata": {},
   "source": [
    "In python, there is the equivalent of a switch statement. It is done with the `match` and `case` keywords. These allow you to deal with many possible values instead of writing many if/elif/else. Note that you should provide a default case, and this is done with the `_`."
   ]
  },
  {
   "attachments": {},
   "cell_type": "markdown",
   "metadata": {},
   "source": [
    "Example 1:"
   ]
  },
  {
   "cell_type": "code",
   "execution_count": null,
   "metadata": {},
   "outputs": [],
   "source": [
    "a = \"hi there\"\n",
    "\n",
    "match a:\n",
    "    case \"hi there\":\n",
    "        print(\"yep\")\n",
    "    case \"nope\":\n",
    "        print(\"nonexistent\")\n",
    "    case _:\n",
    "        print(\"default case\")\n",
    "      "
   ]
  },
  {
   "attachments": {},
   "cell_type": "markdown",
   "metadata": {},
   "source": [
    "Example 2:"
   ]
  },
  {
   "cell_type": "code",
   "execution_count": null,
   "metadata": {},
   "outputs": [],
   "source": [
    "language = \"klingon\"\n",
    "\n",
    "match language:\n",
    "    case \"english\":\n",
    "        print(\"hi there\")\n",
    "    case \"spanish\":\n",
    "        print(\"espanol\")\n",
    "    case \"german\":\n",
    "        print(\"deutsch\")\n",
    "    case _:  # this runs since none of the other cases fit\n",
    "        print(\"cool language...\")"
   ]
  },
  {
   "attachments": {},
   "cell_type": "markdown",
   "metadata": {},
   "source": [
    "Exercise:\n",
    "\n",
    "Use match/case to solve the if/else/elif exercise"
   ]
  },
  {
   "cell_type": "code",
   "execution_count": null,
   "metadata": {},
   "outputs": [],
   "source": [
    "# implement your code here"
   ]
  }
 ],
 "metadata": {
  "kernelspec": {
   "display_name": "Python 3",
   "language": "python",
   "name": "python3"
  },
  "language_info": {
   "codemirror_mode": {
    "name": "ipython",
    "version": 3
   },
   "file_extension": ".py",
   "mimetype": "text/x-python",
   "name": "python",
   "nbconvert_exporter": "python",
   "pygments_lexer": "ipython3",
   "version": "3.10.4"
  },
  "orig_nbformat": 4
 },
 "nbformat": 4,
 "nbformat_minor": 2
}
