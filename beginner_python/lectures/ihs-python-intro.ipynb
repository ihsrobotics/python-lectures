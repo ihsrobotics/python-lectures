{
 "cells": [
  {
   "cell_type": "markdown",
   "metadata": {},
   "source": [
    "# Intro to python\n",
    "\n",
    "\n",
    " \n",
    "## Datatypes\n",
    "\n",
    "\n",
    "Datatypes represent the way that information is stored in variables.  Common datatypes include:\n",
    "Text: \n",
    "- str; a string type such as \"foo\".\n",
    "\n",
    "Numeric: \n",
    "- int; an integer, i.e. 7  [Important! Python numeric values have infinite size (assuming you have the memory.)]\n",
    "- float; a floating point number, i.e. 7.3.\n",
    "- bool; a boolean value, i.e. True or False\n",
    "\n",
    "Collections:\n",
    "- list; A \"mutable\" and \"ordered\" collection of things.\n",
    "- tuple; An immutable and ordered collection of things.\n",
    "- range; A span of values.\n",
    "- dict; A dictionary that maps one set of keys to a set of values: {\"name\":\"bob, \"age\":33, \"awesome\":True}\n",
    "- set;  Just a collection of stuff. {\"ace\",2,3,4,5,6,7,8,9,\"jack\",\"queen\", \"king\"}\n",
    "\n",
    "Weird stuff:\n",
    "- NoneType; nothing at all.  Usually represented by None\n",
    "\n"
   ]
  },
  {
   "cell_type": "markdown",
   "metadata": {},
   "source": [
    "### Assigning  integer and re-assigning as string."
   ]
  },
  {
   "cell_type": "code",
   "execution_count": 1,
   "metadata": {},
   "outputs": [
    {
     "name": "stdout",
     "output_type": "stream",
     "text": [
      "7\n",
      "potato\n"
     ]
    }
   ],
   "source": [
    "# This is a comment.\n",
    "# Setting a variable to a value of some type:\n",
    "\n",
    "# Set x to an integer:\n",
    "x = 7\n",
    "print(x)\n",
    "\n",
    "# Set x to a string:\n",
    "x= \"potato\"\n",
    "print(x)"
   ]
  },
  {
   "cell_type": "markdown",
   "metadata": {},
   "source": [
    "### Assigning strings and booleans"
   ]
  },
  {
   "cell_type": "code",
   "execution_count": 2,
   "metadata": {},
   "outputs": [
    {
     "name": "stdout",
     "output_type": "stream",
     "text": [
      "potato\n",
      "\n",
      "    Roses are red,\n",
      "    Violets are blue,\n",
      "    You smell like a monkey\n",
      "    and look like one too.\n",
      "    \n",
      "\n",
      "False\n"
     ]
    }
   ],
   "source": [
    "x= \"potato\"\n",
    "print(x)\n",
    "\n",
    "# Multiline string:\n",
    "x =\"\"\"\n",
    "    Roses are red,\n",
    "    Violets are blue,\n",
    "    You smell like a monkey\n",
    "    and look like one too.\n",
    "    \n",
    "\"\"\"\n",
    "print (x)\n",
    "\n",
    "x = (4>5)\n",
    "print (x)"
   ]
  },
  {
   "cell_type": "markdown",
   "metadata": {},
   "source": [
    "### Checking for the existance of a variable."
   ]
  },
  {
   "cell_type": "code",
   "execution_count": 3,
   "metadata": {},
   "outputs": [
    {
     "name": "stdout",
     "output_type": "stream",
     "text": [
      "True\n",
      "False\n",
      "True\n"
     ]
    }
   ],
   "source": [
    "x = 9\n",
    "print('x' in locals())\n",
    "print('y' in locals())\n",
    "y= 42.0\n",
    "print('y' in locals())"
   ]
  },
  {
   "cell_type": "markdown",
   "metadata": {},
   "source": [
    "### Working with strings."
   ]
  },
  {
   "cell_type": "code",
   "execution_count": 10,
   "metadata": {},
   "outputs": [
    {
     "name": "stdout",
     "output_type": "stream",
     "text": [
      "bobby\n",
      "the answer to 4 + 3 is 7, according to bobby\n",
      "the second letter of the name is o.\n",
      "Let's all scream BOBBY.\n",
      "boop\n",
      "beep\n",
      "['blat', 'foo']\n"
     ]
    }
   ],
   "source": [
    "name = \"bob\"\n",
    "name += \"by\"\n",
    "print(name)\n",
    "\n",
    "print(f'the answer to 4 + 3 is {4+3}, according to {name}')\n",
    "print(f'the second letter of the name is {name[1]}.')\n",
    "\n",
    "print(f'Let\\'s all scream {name.upper()}.')\n",
    "\n",
    "_1st, _2nd, *_ = \"boop, beep, blat, foo\".split(', ')\n",
    "print(_1st)\n",
    "print(_2nd)\n",
    "print(_)\n"
   ]
  },
  {
   "cell_type": "markdown",
   "metadata": {},
   "source": [
    "## Working with collections:\n",
    "\n",
    "### Lists and tuples"
   ]
  },
  {
   "cell_type": "code",
   "execution_count": 11,
   "metadata": {},
   "outputs": [
    {
     "name": "stdout",
     "output_type": "stream",
     "text": [
      "[1, 2, 3, 4, 5]\n",
      "[1, 2, 3, 4, 5, 6, 7, 8]\n",
      "[1, 2, 3, 4, 5, 6]\n",
      "['potato', 2, 3, 4, 5, 6]\n"
     ]
    }
   ],
   "source": [
    "my_list = [1,2,3,4,5]\n",
    "print (my_list)\n",
    "\n",
    "a_bigger_list = my_list + [6,7,8]\n",
    "print (a_bigger_list)\n",
    "\n",
    "my_list.append(6)\n",
    "print (my_list)\n",
    "\n",
    "my_list[0] = 'potato'\n",
    "print (my_list)\n"
   ]
  },
  {
   "cell_type": "markdown",
   "metadata": {},
   "source": [
    "#### Indexing into a tuple:"
   ]
  },
  {
   "cell_type": "code",
   "execution_count": 20,
   "metadata": {},
   "outputs": [
    {
     "name": "stdout",
     "output_type": "stream",
     "text": [
      "('bob',)\n",
      "----------\n",
      "snow\n",
      "----------\n",
      "('justin', 'eliot')\n"
     ]
    }
   ],
   "source": [
    "my_tuple = (\"bob\", \"eliot\", \"snow\", \"justin\")\n",
    "\n",
    " \n",
    "print(my_tuple[0:1])\n",
    "print('----------')\n",
    "print(my_tuple[-2])\n",
    "print('----------')\n",
    "print(my_tuple[-1::-2])"
   ]
  },
  {
   "cell_type": "markdown",
   "metadata": {},
   "source": [
    "### Set operations\n",
    "Sets are a collection _unique values_ upon which you can perform set operations:"
   ]
  },
  {
   "cell_type": "code",
   "execution_count": 21,
   "metadata": {},
   "outputs": [
    {
     "name": "stdout",
     "output_type": "stream",
     "text": [
      "Union\n",
      "{1, 2, 3, 4, 5}\n",
      "{1, 2, 3, 4, 5}\n",
      "Intersection\n",
      "{2, 3}\n",
      "{2, 3}\n",
      "Difference\n",
      "{1}\n",
      "{1}\n",
      "{4, 5}\n",
      "Symmetric difference\n",
      "{1, 4, 5}\n",
      "{1, 4, 5}\n",
      "is disjoint?\n",
      "False\n"
     ]
    }
   ],
   "source": [
    "my_1st_set = {1,2,3}\n",
    "my_2nd_set = {2,3,4,5}\n",
    "\n",
    "print('Union')\n",
    "print(set.union(my_1st_set,my_2nd_set))\n",
    "print(my_1st_set | my_2nd_set)\n",
    "\n",
    "print('Intersection')\n",
    "print(set.intersection(my_1st_set,my_2nd_set))\n",
    "print(my_1st_set & my_2nd_set)\n",
    "\n",
    "print('Difference')\n",
    "print(set.difference(my_1st_set,my_2nd_set))\n",
    "print(my_1st_set - my_2nd_set)\n",
    "print(my_2nd_set - my_1st_set)\n",
    "\n",
    "print('Symmetric difference')\n",
    "print(set.symmetric_difference(my_1st_set,my_2nd_set))\n",
    "print(my_1st_set ^ my_2nd_set)\n",
    "\n",
    "print('is disjoint?')\n",
    "print(set.isdisjoint(my_1st_set,my_2nd_set))"
   ]
  },
  {
   "cell_type": "code",
   "execution_count": 22,
   "metadata": {},
   "outputs": [
    {
     "name": "stdout",
     "output_type": "stream",
     "text": [
      "{1, 2, 3}\n"
     ]
    }
   ],
   "source": [
    "some_set = {1,2,3,1,2,3}\n",
    "print(some_set)"
   ]
  },
  {
   "cell_type": "markdown",
   "metadata": {},
   "source": [
    "### Dictionaries\n",
    "\n",
    "Dictionaries map one set of keys to values.  Keys and values can be any type."
   ]
  },
  {
   "cell_type": "code",
   "execution_count": 23,
   "metadata": {},
   "outputs": [
    {
     "name": "stdout",
     "output_type": "stream",
     "text": [
      "dict_keys(['jenny', 'emergency'])\n",
      "dict_values([8675309, 911])\n",
      "------\n",
      "print everything:\n",
      "  name: jenny, value: 8675309\n",
      "  name: emergency, value: 911\n",
      "------\n",
      "8675309\n",
      "------\n",
      "{'jenny': 42, 'emergency': 911}\n",
      "------\n",
      "wrong number\n"
     ]
    }
   ],
   "source": [
    "phone_book = {\"jenny\":8675309, \"emergency\":911, }\n",
    "print(phone_book.keys())\n",
    "print(phone_book.values())\n",
    "\n",
    "print('------')\n",
    "print(\"print everything:\")\n",
    "for key, value in phone_book.items():\n",
    "    print (f\"  name: {key}, value: {value}\")\n",
    "\n",
    "# accessing an item:\n",
    "print('------')\n",
    "print(phone_book[\"jenny\"])\n",
    "\n",
    "# setting a value:\n",
    "print('------')\n",
    "phone_book[\"jenny\"] = 42\n",
    "print(phone_book)\n",
    "\n",
    "# getting a value conditionally:\n",
    "print('------')\n",
    "print(phone_book.get(\"moe's tavern\",\"wrong number\"))"
   ]
  },
  {
   "cell_type": "markdown",
   "metadata": {},
   "source": [
    "## Comprehensions\n",
    "\n",
    "Comprehensions are a way to build collections like lists, dictionaries, sets and tuples:\n",
    "\n"
   ]
  },
  {
   "cell_type": "code",
   "execution_count": 24,
   "metadata": {},
   "outputs": [
    {
     "name": "stdout",
     "output_type": "stream",
     "text": [
      "{'a': 0, 'b': 1, 'c': 2, 'd': 3}\n",
      "2\n"
     ]
    }
   ],
   "source": [
    "letters = ['a','b','c','d']\n",
    "numbers = range(len(letters))\n",
    "\n",
    "letter_map = {letter:number for letter,number in zip(letters,numbers)}\n",
    "\n",
    "print(letter_map)\n",
    "print(letter_map['c'])"
   ]
  },
  {
   "cell_type": "code",
   "execution_count": 25,
   "metadata": {},
   "outputs": [
    {
     "name": "stdout",
     "output_type": "stream",
     "text": [
      "[1, 2, 4, 8, 16, 32, 64, 128]\n"
     ]
    }
   ],
   "source": [
    "print([2**x for x in range(8)])"
   ]
  },
  {
   "cell_type": "code",
   "execution_count": 30,
   "metadata": {},
   "outputs": [
    {
     "name": "stdout",
     "output_type": "stream",
     "text": [
      "[0, 2, 4, 6, 8]\n"
     ]
    }
   ],
   "source": [
    "print([x for x in range(10) if x%2 == 0])"
   ]
  },
  {
   "cell_type": "code",
   "execution_count": null,
   "metadata": {},
   "outputs": [],
   "source": []
  }
 ],
 "metadata": {
  "kernelspec": {
   "display_name": "Python 3",
   "language": "python",
   "name": "python3"
  },
  "language_info": {
   "codemirror_mode": {
    "name": "ipython",
    "version": 3
   },
   "file_extension": ".py",
   "mimetype": "text/x-python",
   "name": "python",
   "nbconvert_exporter": "python",
   "pygments_lexer": "ipython3",
   "version": "3.8.10"
  }
 },
 "nbformat": 4,
 "nbformat_minor": 2
}
