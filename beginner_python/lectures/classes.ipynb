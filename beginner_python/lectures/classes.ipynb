{
 "cells": [
  {
   "attachments": {},
   "cell_type": "markdown",
   "metadata": {},
   "source": [
    "# Classes\n"
   ]
  },
  {
   "attachments": {},
   "cell_type": "markdown",
   "metadata": {},
   "source": [
    "## Topics in This Notebook:"
   ]
  },
  {
   "attachments": {},
   "cell_type": "markdown",
   "metadata": {},
   "source": [
    "Outline:\n",
    "- Overview\n",
    "- Static Fields\n",
    "- Instance Variables and `__init__()`\n",
    "- Methods\n",
    "- `__str__()` and `__repr__()` methods\n",
    "- Inheritance\n",
    "- Abstract classes / methods\n",
    "- Properties and Protection\n",
    "- Special methods\n",
    "- `__new__()`\n",
    "- Metaclasses\n",
    "- Data classes"
   ]
  },
  {
   "attachments": {},
   "cell_type": "markdown",
   "metadata": {},
   "source": [
    "## Overview"
   ]
  },
  {
   "attachments": {},
   "cell_type": "markdown",
   "metadata": {},
   "source": [
    "What is a class? In essence, a class is a blueprint for creating objects. A class tells the interpreter what attributes and what behaviors the created object should have.\n",
    "\n",
    "A class can be declared with the `class` keyword followed by the class name and a colon. For example:"
   ]
  },
  {
   "cell_type": "code",
   "execution_count": 7,
   "metadata": {},
   "outputs": [],
   "source": [
    "# define a class called ExampleClass\n",
    "class ExampleClass:\n",
    "    pass  # more on the body of a class later"
   ]
  },
  {
   "attachments": {},
   "cell_type": "markdown",
   "metadata": {},
   "source": [
    "After you have defined your class, you can *instantiate* objects of that class. To instantiate means to create an object that follows the class's \"blueprint.\" For example:"
   ]
  },
  {
   "cell_type": "code",
   "execution_count": 8,
   "metadata": {},
   "outputs": [],
   "source": [
    "# instantiate the class\n",
    "# example_object now is an ExampleClass object\n",
    "# with all the functionality / data that ExampleClass defines\n",
    "example_object = ExampleClass()"
   ]
  },
  {
   "attachments": {},
   "cell_type": "markdown",
   "metadata": {},
   "source": [
    "## Static Fields"
   ]
  },
  {
   "attachments": {},
   "cell_type": "markdown",
   "metadata": {},
   "source": [
    "Fields are data that is stored within a class. There are two types of fields:\n",
    "- static/class fields - these are variables that belong to the class\n",
    "- instance variables - these are variables that belong to objects of the class (more on this later).\n",
    "\n",
    "For now, we'll discuss class variables. As the name suggests, these variables are defined in the class and thus belong to the class. Here's an example:"
   ]
  },
  {
   "cell_type": "code",
   "execution_count": 91,
   "metadata": {},
   "outputs": [],
   "source": [
    "class ExampleClass:\n",
    "    name = \"ExampleClass\"\n",
    "    purpose = \"Be a good example of static fields\""
   ]
  },
  {
   "attachments": {},
   "cell_type": "markdown",
   "metadata": {},
   "source": [
    "Then, since these fields belong to the class, they can be accessed via the class using dot notation (`class.field`)."
   ]
  },
  {
   "cell_type": "code",
   "execution_count": 92,
   "metadata": {},
   "outputs": [
    {
     "name": "stdout",
     "output_type": "stream",
     "text": [
      "ExampleClass\n",
      "Be a good example of static fields\n",
      "Some other purpose\n"
     ]
    }
   ],
   "source": [
    "# they can be accessed via ExampleCLass.field\n",
    "print(ExampleClass.name)\n",
    "print(ExampleClass.purpose)\n",
    "\n",
    "# they can also be modified in that sam way\n",
    "ExampleClass.purpose = \"Some other purpose\"\n",
    "print(ExampleClass.purpose)"
   ]
  },
  {
   "attachments": {},
   "cell_type": "markdown",
   "metadata": {},
   "source": [
    "## Instance variables and `__init__()`"
   ]
  },
  {
   "attachments": {},
   "cell_type": "markdown",
   "metadata": {},
   "source": [
    "Let's talk about instance variables. Instead of belonging to the class, they belong to instances, or objects, of the class. To understand how they work, let's look at an example:"
   ]
  },
  {
   "attachments": {},
   "cell_type": "markdown",
   "metadata": {},
   "source": [
    "### Example 1"
   ]
  },
  {
   "cell_type": "code",
   "execution_count": 16,
   "metadata": {},
   "outputs": [
    {
     "name": "stdout",
     "output_type": "stream",
     "text": [
      "initially, obj_1 has var1 of value 1 while obj_2 has var1 of value 1\n",
      "now, obj_1 has var1 of value 5 while obj_2 has var1 of value 1\n"
     ]
    }
   ],
   "source": [
    "class ExampleClass:\n",
    "    def __init__(self):\n",
    "        self.var1 = 1\n",
    "        self.var2 = 2\n",
    "\n",
    "\n",
    "# instantiate the class\n",
    "obj_1 = ExampleClass()\n",
    "obj_2 = ExampleClass()\n",
    "\n",
    "# demonstrate changing obj_1.var's value\n",
    "print(\n",
    "    f\"initially, obj_1 has var1 of value {obj_1.var1} while obj_2 has var1 of value {obj_2.var1}\"\n",
    ")\n",
    "obj_1.var1 = 5\n",
    "print(\n",
    "    f\"now, obj_1 has var1 of value {obj_1.var1} while obj_2 has var1 of value {obj_2.var1}\"\n",
    ")"
   ]
  },
  {
   "attachments": {},
   "cell_type": "markdown",
   "metadata": {},
   "source": [
    "As we can see in the above example, our object now has data associated with it! So how did that happen? Let's break it down line by line."
   ]
  },
  {
   "attachments": {},
   "cell_type": "markdown",
   "metadata": {},
   "source": [
    "\n",
    "Line 1:\n",
    "```python\n",
    "class ExampleClass:\n",
    "```\n",
    "This declares our class `ExampleClass`"
   ]
  },
  {
   "attachments": {},
   "cell_type": "markdown",
   "metadata": {},
   "source": [
    "Lines 2-4:\n",
    "```python\n",
    "    def __init__(self):\n",
    "        self.var1 = 1\n",
    "        self.var2 = 2\n",
    "```\n",
    "\n",
    "This is a method, or a function associated with an object. However, it is a special method; the `__init__` method is called every time a new object is created, and it acts to *initialize* the object\n",
    "\n",
    "In these lines, the `__init__` method defines the variables var1 and var2 as instance variables, or variables that belong to an object/instance of the class. \n",
    "\n",
    "Think of it this way. Since a class is a blueprint, the `__init__` method is like the builder (constructor) of those objects. It makes sure that all objects that are made with the class's blueprint have the desired attributes. The newly created object is the `self` present in the `__init__` method's parameters, and thus when we do `self.var1 = 1`, we give the newly created object the field `var1` that is equal to 1.\n",
    "\n",
    "> Note the use of the `self` keyword here. This is what makes `var1` and `var2` instance variables as opposed to merely variables in the method."
   ]
  },
  {
   "attachments": {},
   "cell_type": "markdown",
   "metadata": {},
   "source": [
    "Lines 6-8\n",
    "```python\n",
    "# instantiate the class\n",
    "obj_1 = ExampleClass()\n",
    "obj_2 = ExampleClass()\n",
    "```\n",
    "In these lines, we instantiate two objects. Each of them will have the `var1` and `var2` variables, but `obj_1`'s `var1` is a different variable than `obj_2`'s `var1`, and the same applies to `var2`. This is what it means to be instance variables; they have the same names, but they are different variables that belong to different objects."
   ]
  },
  {
   "attachments": {},
   "cell_type": "markdown",
   "metadata": {},
   "source": [
    "Lines 10-13\n",
    "```python\n",
    "# demonstrate changing obj_1.var's value\n",
    "print(f\"initially, obj_1 has var1 of value {obj_1.var1} while obj_2 has var1 of value {obj_2.var1}\")\n",
    "obj_1.var1 = 5\n",
    "print(f\"now, obj_1 has var1 of value {obj_1.var1} while obj_2 has var1 of value {obj_2.var1}\")\n",
    "```\n",
    "In these lines, we demonstrate that the power of instance variables. Although `obj_1`'s `var1` was changed, this doesn't affect `obj_2`'s `var1`. They are completely different variables with the same name!"
   ]
  },
  {
   "attachments": {},
   "cell_type": "markdown",
   "metadata": {},
   "source": [
    "### More on the `__init__` method"
   ]
  },
  {
   "attachments": {},
   "cell_type": "markdown",
   "metadata": {},
   "source": [
    "Just like regular functions, the `__init__` method can be defined to take other arguments. This provides a lot of flexibility for storing data within classes. In order to take more arguments, add the parameter names after the `self` keyword. Then, when instantiating an object, make sure to pass those parameters inside the parentheses. After all, those parentheses can be thought of as a call to the `__init__` method.\n",
    "> Note, the `__init__` method must take the `self` keyword as its first parameter. If it doesn't, it will not function correctly."
   ]
  },
  {
   "cell_type": "code",
   "execution_count": 19,
   "metadata": {},
   "outputs": [
    {
     "name": "stdout",
     "output_type": "stream",
     "text": [
      "11\n",
      "22\n"
     ]
    }
   ],
   "source": [
    "class InitializedClass:\n",
    "    # this class requires 2 arguments when being instantiated\n",
    "    # since the `__init__` method takes 2 parameters other than `self`\n",
    "    def __init__(self, param1, param2):\n",
    "        self.param1 = param1\n",
    "        self.param2 = param2\n",
    "\n",
    "\n",
    "# pass arguments 11 and 22 to InitializedClass's `__init__` method\n",
    "my_object = InitializedClass(11, 22)\n",
    "print(my_object.param1)\n",
    "print(my_object.param2)"
   ]
  },
  {
   "attachments": {},
   "cell_type": "markdown",
   "metadata": {},
   "source": [
    "### Example 2"
   ]
  },
  {
   "attachments": {},
   "cell_type": "markdown",
   "metadata": {},
   "source": [
    "Here's a full example showing how useful an `__init__` method that takes parameters other than `self` can be"
   ]
  },
  {
   "cell_type": "code",
   "execution_count": 20,
   "metadata": {},
   "outputs": [
    {
     "name": "stdout",
     "output_type": "stream",
     "text": [
      "Hi, I'm Joe, and I am 22 years old\n",
      "Hi, I'm Amy, and I am 21 years old\n"
     ]
    }
   ],
   "source": [
    "class Person:\n",
    "    def __init__(self, name, age):\n",
    "        self.name = name\n",
    "        self.age = age\n",
    "\n",
    "\n",
    "def introduce_person(person):\n",
    "    print(f\"Hi, I'm {person.name}, and I am {person.age} years old\")\n",
    "\n",
    "\n",
    "joe = Person(\"Joe\", 22)\n",
    "amy = Person(\"Amy\", 21)\n",
    "\n",
    "introduce_person(joe)\n",
    "introduce_person(amy)"
   ]
  },
  {
   "attachments": {},
   "cell_type": "markdown",
   "metadata": {},
   "source": [
    "## Methods"
   ]
  },
  {
   "attachments": {},
   "cell_type": "markdown",
   "metadata": {},
   "source": [
    "So now that we've seen how classes can hold data, let's focus on how they can modify that data. For that, methods, or functions associated with a class, are used. All methods must be indented (just like the `__init__` method). Then, in order to be an instance method, or a method that can be invoked by `object_name.method()`, the method must take the `self` parameter.\n",
    "> Note that methods that don't take the self parameter are called static methods. They cannot access instance fields, and are essentially just regular functions that belong to a class"
   ]
  },
  {
   "attachments": {},
   "cell_type": "markdown",
   "metadata": {},
   "source": [
    "### Example 1"
   ]
  },
  {
   "attachments": {},
   "cell_type": "markdown",
   "metadata": {},
   "source": [
    "Instead of using a separate function to introduce a person, let's see that in terms of a method."
   ]
  },
  {
   "cell_type": "code",
   "execution_count": 22,
   "metadata": {},
   "outputs": [
    {
     "name": "stdout",
     "output_type": "stream",
     "text": [
      "Hi, I'm Joe, and I am 22 years old\n",
      "Hi, I'm Amy, and I am 21 years old\n"
     ]
    }
   ],
   "source": [
    "class Person:\n",
    "    def __init__(self, name, age):\n",
    "        self.name = name\n",
    "        self.age = age\n",
    "\n",
    "    # this is now an instance method since it is\n",
    "    # indented to be part of the class and takes the self\n",
    "    # parameter\n",
    "    def introduce(self):\n",
    "        print(f\"Hi, I'm {self.name}, and I am {self.age} years old\")\n",
    "\n",
    "\n",
    "joe = Person(\"Joe\", 22)\n",
    "amy = Person(\"Amy\", 21)\n",
    "\n",
    "# since it is an instance method, we just do `.introduce()` to call it\n",
    "# behind the scenes, the interpreter substitutes joe (and then later amy)\n",
    "# as the `self` in `introduce`\n",
    "joe.introduce()\n",
    "amy.introduce()"
   ]
  },
  {
   "attachments": {},
   "cell_type": "markdown",
   "metadata": {},
   "source": [
    "### Example 2"
   ]
  },
  {
   "attachments": {},
   "cell_type": "markdown",
   "metadata": {},
   "source": [
    "Here's another example of methods at work. This time, the context is an animal."
   ]
  },
  {
   "cell_type": "code",
   "execution_count": 26,
   "metadata": {},
   "outputs": [
    {
     "name": "stdout",
     "output_type": "stream",
     "text": [
      "I'm selling beef for 7 dollars per 1 lb(s)\n",
      "I'm selling pork for 7 dollars per 2 lb(s)\n",
      "to buy 3 pounds from jim, it costs $21.0\n",
      "to buy 3 pounds from joe, it costs $10.5\n"
     ]
    }
   ],
   "source": [
    "class Butcher:\n",
    "    def __init__(self, species, price, weight) -> None:\n",
    "        self.species = species\n",
    "        self.weight = weight\n",
    "        self.price = price\n",
    "\n",
    "    # this method takes no parameters besides self\n",
    "    def advertise(self):\n",
    "        print(\n",
    "            f\"I'm selling {self.species} for {self.price} dollars per {self.weight} lb(s)\"\n",
    "        )\n",
    "\n",
    "    # this method takes an additional parameter called `pounds`\n",
    "    # and returns the cost of buying that many pounds\n",
    "    def get_cost(self, pounds):\n",
    "        return pounds * self.price / self.weight\n",
    "\n",
    "\n",
    "# Jim the butcher\n",
    "jim = Butcher(\"beef\", 7, 1)\n",
    "jim.advertise()\n",
    "\n",
    "# Joe the butcher\n",
    "joe = Butcher(\"pork\", 7, 2)\n",
    "joe.advertise()\n",
    "\n",
    "# methods at work\n",
    "pounds = 3\n",
    "print(f\"to buy {pounds} pounds from jim, it costs ${jim.get_cost(pounds)}\")\n",
    "print(f\"to buy {pounds} pounds from joe, it costs ${joe.get_cost(pounds)}\")"
   ]
  },
  {
   "attachments": {},
   "cell_type": "markdown",
   "metadata": {},
   "source": [
    "### Practice"
   ]
  },
  {
   "attachments": {},
   "cell_type": "markdown",
   "metadata": {},
   "source": [
    "Now that you know how to write a class with fields and methods, it's time to practice that! Try the following practice problems:\n",
    "1. Create a `Book` class that:\n",
    "    - takes a title and an author in its constructor\n",
    "    - can describe itself\n",
    "    - gets instantiated with your choice of title and author\n",
    "2. Create an `GeometricSequence` class that:\n",
    "    - takes an initial term and a ratio in its constructor\n",
    "    - can describe itself\n",
    "    - has a method `get_term` that takes a term number and returns that term in the geometric sequence. Note that, in a geometric sequence, the nth term is equal to the initial term times the ratio to the power of n\n",
    "    - gets instantiated with 2 as the initial term and 3 as the ratio (it should give 0th term 2, 1st term 6, 2nd term 18, etc)"
   ]
  },
  {
   "attachments": {},
   "cell_type": "markdown",
   "metadata": {},
   "source": [
    "<details>\n",
    "<summary>Example Solutions:</summary>\n",
    "\n",
    "1. `Book` class\n",
    "```python\n",
    "class Book:\n",
    "    def __init__(self, title, author) -> None:\n",
    "        self.title = title\n",
    "        self.author = author\n",
    "\n",
    "    def describe(self):\n",
    "        print(f\"This is {self.title} by {self.author}\")\n",
    "\n",
    "```\n",
    "2. `GeometricSequence` class\n",
    "```python\n",
    "class GeometricSequence:\n",
    "    def __init__(self, initial_term, ratio) -> None:\n",
    "        self.initial_term = initial_term\n",
    "        self.ratio = ratio\n",
    "    \n",
    "    def describe(self):\n",
    "        print(f\"This is a geometric sequence with initial term {self.initial_term} and ratio {self.ratio}\")\n",
    "    \n",
    "    def get_term(self, n):\n",
    "        return self.initial_term * self.ratio**n\n",
    "\n",
    "```\n",
    "</details>"
   ]
  },
  {
   "attachments": {},
   "cell_type": "markdown",
   "metadata": {},
   "source": [
    "## `__str__` and `__repr__` methods"
   ]
  },
  {
   "attachments": {},
   "cell_type": "markdown",
   "metadata": {},
   "source": [
    "Up until now, we've been using our own methods (often `describe` or `print`) to print out our objects. However, there are some special methods that can make this a lot easier.\n",
    "\n",
    "The `__str__` special method's signature is as follows: `def __str__(self):`. It should return a string that represents the object.\n",
    "\n",
    "The `__repr__` special method's signature is as follow: `def __repr__(self):`. It should also return a string that represents the object, and is often implemented by returning the results of the `__str__` method.\n",
    "\n",
    "> Confused on what the difference is? `__str__` is called when you do `str(object_name)` while `__repr__` is called when you do things like `print(object_name)`. "
   ]
  },
  {
   "attachments": {},
   "cell_type": "markdown",
   "metadata": {},
   "source": [
    "### Example"
   ]
  },
  {
   "attachments": {},
   "cell_type": "markdown",
   "metadata": {},
   "source": [
    "Here's an example of these methods at work. Notice how they make displaying our objects so much easier."
   ]
  },
  {
   "cell_type": "code",
   "execution_count": 30,
   "metadata": {},
   "outputs": [
    {
     "name": "stdout",
     "output_type": "stream",
     "text": [
      "Hi, I'm Joe, and I am 22 years old\n",
      "Hi, I'm Amy, and I am 21 years old\n"
     ]
    }
   ],
   "source": [
    "class Person:\n",
    "    def __init__(self, name, age):\n",
    "        self.name = name\n",
    "        self.age = age\n",
    "\n",
    "    def __str__(self):\n",
    "        return f\"Hi, I'm {self.name}, and I am {self.age} years old\"\n",
    "\n",
    "    def __repr__(self) -> str:\n",
    "        return str(self)\n",
    "\n",
    "\n",
    "joe = Person(\"Joe\", 22)\n",
    "amy = Person(\"Amy\", 21)\n",
    "print(joe)  # now, seeing our object is as simple as printing it out!\n",
    "print(amy)"
   ]
  },
  {
   "attachments": {},
   "cell_type": "markdown",
   "metadata": {},
   "source": [
    "## Inheritance"
   ]
  },
  {
   "attachments": {},
   "cell_type": "markdown",
   "metadata": {},
   "source": [
    "Inheritance is the ability for a class to inherit, or get, fields and methods from another class. It is useful in many ways, but mostly because it improves code reusability (since you don't have to write the same methods out again). Before we get into it, here's some terminology:\n",
    "- super/parent class - this is the class from which fields and methods are inherited/taken from\n",
    "- sub/child class - this is the class that inherits/gets the fields and methods\n",
    "- override - this is what happens when a subclass defines a method that was already defined by the superclass. This new definition \"overrides\" the superclass's definition"
   ]
  },
  {
   "attachments": {},
   "cell_type": "markdown",
   "metadata": {},
   "source": [
    "Now, to give you an idea about inheritance, let's think about dogs. All dogs bark, have four legs, and have two ears. If `Dog` was a class, it would have fields for its ears and legs, and a bark method. Now, if there was a specific dog Jeff who was trained to shake hands, then this dog Jeff will still have four legs, still have two ears, and still bark just like a regular dog. The only difference is that it would have another method for shaking hands. That is because dogs like Jeff that can shake hands are still dogs, so they inherit all the behaviors and attributes of regular dogs. Now, let's say that there's another dog Jeoffrey that barks differently than Jeff. Is it still a dog? Yes, because it still barks. Even though dogs like Jeoffrey bark differently than default dogs, they are still dogs.\n",
    "\n",
    "This is the core principle behind inheritance. Although we might add or modify some behavior, we want to reuse attributes and behaviors as much as possible. Most of the time, this can be thought of in terms of \"x is a y\" where x is the subclass and y is the superclass. In our above example, dogs who are `Jeoffrey` are `Dog`s, as are dogs who are `Jeff`. "
   ]
  },
  {
   "attachments": {},
   "cell_type": "markdown",
   "metadata": {},
   "source": [
    "So, how does this translate into code? Inheritance in Python is done inside the class declaration. Instead of doing\n",
    "```python\n",
    "class ExampleClass:\n",
    "```\n",
    "we now add parentheses and a class inside those parentheses to indicate that `ExampleClass` inherits from the class inside the parentheses (`SuperClass`).\n",
    "```python\n",
    "class ExampleClass(SuperClass):\n",
    "```\n",
    "> Note that each class can only inherit from **1** class, meaning that there can only be at most **1** class inside the parentheses "
   ]
  },
  {
   "attachments": {},
   "cell_type": "markdown",
   "metadata": {},
   "source": [
    "Also, inheritance brings about some other changes. In order to access the super/parent class, you must call `super()`. Thus, if the superclass has a constructor that requires parameters, then your `__init__` method would look something like the following:\n",
    "```python\n",
    "class ExampleClass(SuperClass):\n",
    "    def __init__(self, param1, param2):\n",
    "        # assume SuperClass's __init__ method requires param1\n",
    "        # so, we pass this object (self) and param1 to SuperClass's\n",
    "        # __init__ method, then we use param2 for ourselves\n",
    "        super().__init__(self, param1)\n",
    "        self.param2 = param2\n"
   ]
  },
  {
   "attachments": {},
   "cell_type": "markdown",
   "metadata": {},
   "source": [
    "### Example 1"
   ]
  },
  {
   "attachments": {},
   "cell_type": "markdown",
   "metadata": {},
   "source": [
    "Let's look at an example."
   ]
  },
  {
   "cell_type": "code",
   "execution_count": 36,
   "metadata": {},
   "outputs": [
    {
     "name": "stdout",
     "output_type": "stream",
     "text": [
      "cow that is alive and has 4 legs. It's name is Milky White\n",
      "horse that is alive and has 4 legs. It can run up to 26 mph\n"
     ]
    }
   ],
   "source": [
    "class Animal:\n",
    "    def __init__(self, species, alive) -> None:\n",
    "        self.species = species\n",
    "        self.alive = alive\n",
    "\n",
    "    def __str__(self):\n",
    "        return f\"{self.species} that is {'alive' if self.alive else 'not alive'}\"\n",
    "\n",
    "    def __repr__(self):\n",
    "        return str(self)\n",
    "\n",
    "\n",
    "# TerrestrialAnimal is an Animal\n",
    "class TerrestrialAnimal(Animal):\n",
    "    def __init__(self, species, alive, num_legs) -> None:\n",
    "        super().__init__(species, alive)\n",
    "        self.num_legs = num_legs\n",
    "\n",
    "    def __str__(self):\n",
    "        return super().__str__() + f\" and has {self.num_legs} legs\"\n",
    "\n",
    "\n",
    "# Cows are a certain type of TerrestrialAnimal\n",
    "class Cow(TerrestrialAnimal):\n",
    "    def __init__(self, name) -> None:\n",
    "        super().__init__(\"cow\", True, 4)\n",
    "        self.name = name\n",
    "\n",
    "    def __str__(self):\n",
    "        return super().__str__() + f\". It's name is {self.name}\"\n",
    "\n",
    "\n",
    "# Horses are another type of TerrestrialAnimal\n",
    "class Horse(TerrestrialAnimal):\n",
    "    def __init__(self, speed) -> None:\n",
    "        super().__init__(\"horse\", True, 4)\n",
    "        self.speed = speed\n",
    "\n",
    "    def __str__(self):\n",
    "        return super().__str__() + f\". It can run up to {self.speed} mph\"\n",
    "\n",
    "\n",
    "milky_white = Cow(\"Milky White\")\n",
    "buttercup = Horse(26)\n",
    "\n",
    "print(milky_white)\n",
    "print(buttercup)"
   ]
  },
  {
   "attachments": {},
   "cell_type": "markdown",
   "metadata": {},
   "source": [
    "### Example 2"
   ]
  },
  {
   "attachments": {},
   "cell_type": "markdown",
   "metadata": {},
   "source": [
    "Here's another example in terms of Dogs and Jeoffreys"
   ]
  },
  {
   "cell_type": "code",
   "execution_count": 44,
   "metadata": {},
   "outputs": [
    {
     "name": "stdout",
     "output_type": "stream",
     "text": [
      "Dog named doggo with 4 legs and 2 ears\n",
      "bark bark\n",
      "================================\n",
      "Dog named Jeff with 4 legs and 2 ears\n",
      "(offers you a paw and shakes)\n",
      "bark bark\n",
      "================================\n",
      "Dog named Jeoffrey with 4 legs and 2 ears\n",
      "woof woof\n"
     ]
    }
   ],
   "source": [
    "class Dog:\n",
    "    def __init__(self, name, legs, ears) -> None:\n",
    "        self.legs = legs\n",
    "        self.ears = ears\n",
    "        self.name = name\n",
    "\n",
    "    def bark(self):\n",
    "        print(\"bark bark\")\n",
    "\n",
    "    def __str__(self):\n",
    "        return f\"Dog named {self.name} with {self.legs} legs and {self.ears} ears\"\n",
    "\n",
    "    def __repr__(self) -> str:\n",
    "        return str(self)\n",
    "\n",
    "\n",
    "class Jeoffrey(Dog):\n",
    "    def __init__(self) -> None:\n",
    "        super().__init__(\"Jeoffrey\", 4, 2)\n",
    "\n",
    "    # override Dog's bark method\n",
    "    def bark(self):\n",
    "        print(\"woof woof\")\n",
    "\n",
    "\n",
    "class Jeff(Dog):\n",
    "    def __init__(self) -> None:\n",
    "        super().__init__(\"Jeff\", 4, 2)\n",
    "\n",
    "    # in Jeff, we add a new method.\n",
    "    def shake_hand(self):\n",
    "        print(\"(offers you a paw and shakes)\")\n",
    "\n",
    "\n",
    "generic_dog = Dog(\"doggo\", 4, 2)\n",
    "print(generic_dog)\n",
    "generic_dog.bark()\n",
    "print(\"=\" * 32)\n",
    "\n",
    "jeff1 = Jeff()\n",
    "print(jeff1)  # the repr method is inherited unchanged since Jeff doesn't modify it\n",
    "jeff1.shake_hand()  # not all dogs can shake hands, but Jeff's are good bois\n",
    "jeff1.bark()\n",
    "print(\"=\" * 32)\n",
    "\n",
    "jeff2 = Jeoffrey()\n",
    "print(jeff2)  # the repr method is inherited unchanged since Jeoffrey doesn't modify it\n",
    "jeff2.bark()  # the method has been overridden"
   ]
  },
  {
   "attachments": {},
   "cell_type": "markdown",
   "metadata": {},
   "source": [
    "### Practice"
   ]
  },
  {
   "attachments": {},
   "cell_type": "markdown",
   "metadata": {},
   "source": [
    "Now that we've seen some inheritance at work, why don't you try it?\n",
    "\n",
    "Create a superclass Bird that has a species name and can fly, sing, and get printed out, a subclass MockingBird that overrides Bird's sing method, and a subclass Seagull that can also dive."
   ]
  },
  {
   "attachments": {},
   "cell_type": "markdown",
   "metadata": {},
   "source": [
    "<details>\n",
    "<summary>Example Solution</summary>\n",
    "\n",
    "```python\n",
    "class Bird:\n",
    "    def __init__(self, species):\n",
    "        self.species = species\n",
    "\n",
    "    def fly(self):\n",
    "        print(f\"The {self.species} is flying\")\n",
    "\n",
    "    def sing(self):\n",
    "        print(f\"The {self.species} is singing: caw caw caw\")\n",
    "\n",
    "    def __str__(self) -> str:\n",
    "        return f\"Bird, {self.species}\"\n",
    "\n",
    "    def __repr__(self) -> str:\n",
    "        return str(self)\n",
    "\n",
    "\n",
    "class MockingBird(Bird):\n",
    "    def __init__(self):\n",
    "        super().__init__(\"mockingbird\")\n",
    "\n",
    "    def sing(self):\n",
    "        print(f\"The {self.species} can sing anything\")\n",
    "\n",
    "\n",
    "class Seagull(Bird):\n",
    "    def __init__(self):\n",
    "        super().__init__(\"seagull\")\n",
    "\n",
    "    def dive(self):\n",
    "        print(f\"The {self.species} is diving for fish\")\n",
    "```\n",
    "</details>"
   ]
  },
  {
   "attachments": {},
   "cell_type": "markdown",
   "metadata": {},
   "source": [
    "## Abstract Classes + Methods"
   ]
  },
  {
   "attachments": {},
   "cell_type": "markdown",
   "metadata": {},
   "source": [
    "Now that we know what inheritance does, let's discuss another way that inheritance (and overriding) is useful. We're going to talk about abstraction. Abstraction is the process of \"abstracting\", or removing details, from your code. But why would we want to remove details? Abstraction is useful when you know that all subclasses should have a certain behavior, but you don't know exactly what that behavior will look like, so you don't want to write one thing only to have it get overridden in every single subclass. Think about our dog example. All dogs should be able to wag their tails (if they have one). However, every dog wags its tail a little differently. Thus, we would remove details from the `wag_tail` method in the `Dog` class and then put those details in the subclasses' versions of `wag_tail`. Thus, any program that takes a `Dog` object can know for sure that that object will be able to wag its tail (because of inheritance), although it won't know exactly how that dog wags its tail (it's always a surprise)."
   ]
  },
  {
   "attachments": {},
   "cell_type": "markdown",
   "metadata": {},
   "source": [
    "So, how do we put abstraction into code? Let's talk about some terminology first.\n",
    "- Abstract Methods - methods that are either not complete or not implemented at all and need to be implemented in subclasses. In our `Dog` example, the `wag_tail` method is an example of this\n",
    "- Abstract Classes - if a class contains an abstract method, it is referred to as an abstract class. Abstract classes (by convention) shouldn't be instantiated since their behavior will be undefined or incomplete for their abstract methods.\n",
    "- Concrete Methods - methods that are complete with a body\n",
    "- Concrete Classes - every method within a concrete class is concrete (concrete classes have no unimplemented abstract methods)"
   ]
  },
  {
   "attachments": {},
   "cell_type": "markdown",
   "metadata": {},
   "source": [
    "Now, Python doesn't actually have a builtin way to declare classes or methods abstract. However, there are a few ways to do so. The first way is to make the method a stub (define the signature but just put `pass` in the body). This solution, however, doesn't protect against accidentally instantiating that class and then getting the empty behavior for the abstract methods. Thus, if you want to enforce conventions, there is the module `abc`. Let's look at an example that does this with our dogs:"
   ]
  },
  {
   "attachments": {},
   "cell_type": "markdown",
   "metadata": {},
   "source": [
    "### Example 1"
   ]
  },
  {
   "cell_type": "code",
   "execution_count": 43,
   "metadata": {},
   "outputs": [
    {
     "name": "stdout",
     "output_type": "stream",
     "text": [
      "Sasha the chihuahua says bark bark bark!\n",
      "leftrightleftrightleftright\n",
      "🐩🐩🐩🐩🐩🐩🐩🐩🐩🐩🐩🐩🐩🐩🐩🐩🐩🐩🐩🐩🐩🐩🐩🐩🐩🐩🐩🐩🐩🐩🐩🐩\n",
      "Simon the daschund says bark bark bark!\n",
      "left..... right..... left.....\n",
      "🐩🐩🐩🐩🐩🐩🐩🐩🐩🐩🐩🐩🐩🐩🐩🐩🐩🐩🐩🐩🐩🐩🐩🐩🐩🐩🐩🐩🐩🐩🐩🐩\n",
      "Buddy the daschund says bark bark bark!\n",
      "left..... right..... left.....\n",
      "🐩🐩🐩🐩🐩🐩🐩🐩🐩🐩🐩🐩🐩🐩🐩🐩🐩🐩🐩🐩🐩🐩🐩🐩🐩🐩🐩🐩🐩🐩🐩🐩\n"
     ]
    }
   ],
   "source": [
    "# import ABC (the class that abstract classes should inherit from)\n",
    "# and abstractmethod, a decorator used to indiccate a method as abstract\n",
    "from abc import ABC, abstractmethod\n",
    "from typing import Tuple\n",
    "\n",
    "\n",
    "# this is an abstract class since it contains an abstract method\n",
    "# also, note how Dog inherits from ABC; this is because we want\n",
    "# to explicitly say that it is an abstract class\n",
    "class Dog(ABC):\n",
    "    def __init__(self, name, breed) -> None:\n",
    "        self.name = name\n",
    "        self.breed = breed\n",
    "\n",
    "    # we don't know how a specific type of dog will\n",
    "    # wag its tail, but we know all dogs will be able to\n",
    "    # so this is an abstract method\n",
    "    @abstractmethod\n",
    "    def wag_tail(self):\n",
    "        pass\n",
    "\n",
    "    def bark(self):\n",
    "        print(self, \"says bark bark bark!\")\n",
    "\n",
    "    def __str__(self) -> str:\n",
    "        return f\"{self.name} the {self.breed}\"\n",
    "\n",
    "    def __repr__(self) -> str:\n",
    "        return str(self)\n",
    "\n",
    "\n",
    "# a Chihuahua is a specific type of dog\n",
    "# it implements the wag_tail method and thus is a concrete class\n",
    "class Chihuahua(Dog):\n",
    "    def __init__(self, name) -> None:\n",
    "        super().__init__(name, \"chihuahua\")\n",
    "\n",
    "    # now, wag_tail is a concrete method\n",
    "    def wag_tail(self):\n",
    "        print(\"leftrightleftrightleftright\")\n",
    "\n",
    "\n",
    "# a Daschund is another specific type of Dog\n",
    "# so it has its own implementation of the wag_tail method\n",
    "class Daschund(Dog):\n",
    "    def __init__(self, name) -> None:\n",
    "        super().__init__(name, \"daschund\")\n",
    "\n",
    "    def wag_tail(self):\n",
    "        print(\"left..... right..... left.....\")\n",
    "\n",
    "\n",
    "# this dog show demonstrates the power of abstraction.\n",
    "# The show asks the dogs to bark and wag their tails\n",
    "# we don't know what dogs we'll get, but we know they'll be dogs\n",
    "# thus they will be able to bark and have some version of wagging their tails\n",
    "def dog_show(*dogs: Tuple[Dog]):\n",
    "    for dog in dogs:\n",
    "        dog.bark()\n",
    "        dog.wag_tail()\n",
    "        print(\"🐩\" * 32)\n",
    "\n",
    "\n",
    "dog_show(Chihuahua(\"Sasha\"), Daschund(\"Simon\"), Daschund(\"Buddy\"))"
   ]
  },
  {
   "cell_type": "code",
   "execution_count": 44,
   "metadata": {},
   "outputs": [],
   "source": [
    "# doing the below code will error out because\n",
    "# you cannot instantiate an abstract class that\n",
    "# has methods marked with the @abstractmethod decorator\n",
    "# feel free to try it yourself\n",
    "\n",
    "# dog = Dog(\"DogName\", \"Dog Breed\")\n",
    "# dog.wag_tail()"
   ]
  },
  {
   "attachments": {},
   "cell_type": "markdown",
   "metadata": {},
   "source": [
    "### Example 2"
   ]
  },
  {
   "attachments": {},
   "cell_type": "markdown",
   "metadata": {},
   "source": [
    "Here's another example, this time in terms of math. Note how the client code is so clean because it doesn't have to worry about implementation details and only has to know that each object it receives will be able to encrypt and decrypt a message."
   ]
  },
  {
   "cell_type": "code",
   "execution_count": 80,
   "metadata": {},
   "outputs": [
    {
     "name": "stdout",
     "output_type": "stream",
     "text": [
      "CaesarCipher\n",
      "V ybir h YBGF\n",
      "I love u LOTS\n",
      "================================\n",
      "HexEncoder\n",
      "49206c6f76652075204c4f5453\n",
      "I love u LOTS\n"
     ]
    }
   ],
   "source": [
    "# import ABC (the abstract class that abstract classes should inherit from)\n",
    "# and abstractmethod, a decorator used to indicate a method as abstract\n",
    "from abc import ABC, abstractmethod\n",
    "\n",
    "lower_letters = [chr(ord(\"a\") + i) for i in range(26)]\n",
    "upper_letters = [chr(ord(\"A\") + i) for i in range(26)]\n",
    "\n",
    "\n",
    "# this is an abstract class with 2 abstract methods\n",
    "#\n",
    "class EncryptionAlgorithm(ABC):\n",
    "    @abstractmethod\n",
    "    def encrypt(self, msg: str) -> str:\n",
    "        pass\n",
    "\n",
    "    @abstractmethod\n",
    "    def decrypt(self, msg: str) -> str:\n",
    "        pass\n",
    "\n",
    "\n",
    "# this is a concrete class since it implements\n",
    "# both encrypt and decrypt\n",
    "class CaesarCipher(EncryptionAlgorithm):\n",
    "    def __init__(self, shift: int) -> None:\n",
    "        super().__init__()\n",
    "\n",
    "        # instance variables\n",
    "        self.encryption_map = {\n",
    "            lower_letters[i]: lower_letters[(i + shift) % len(lower_letters)]\n",
    "            for i in range(len(lower_letters))\n",
    "        }\n",
    "        self.encryption_map.update(\n",
    "            {\n",
    "                upper_letters[i]: upper_letters[(i + shift) % len(upper_letters)]\n",
    "                for i in range(len(upper_letters))\n",
    "            }\n",
    "        )\n",
    "\n",
    "        self.decryption_map = {val: key for key, val in self.encryption_map.items()}\n",
    "\n",
    "    def __encrypt_helper(self, msg: str, encryption_map: dict) -> str:\n",
    "        ret = list(\n",
    "            map(\n",
    "                lambda letter: encryption_map[letter]\n",
    "                if letter in encryption_map\n",
    "                else letter,\n",
    "                msg,\n",
    "            )\n",
    "        )\n",
    "        return \"\".join(ret)\n",
    "\n",
    "    # this is a concrete method and no longer abstract\n",
    "    def encrypt(self, msg: str) -> str:\n",
    "        return self.__encrypt_helper(msg, self.encryption_map)\n",
    "\n",
    "    # this too\n",
    "    def decrypt(self, msg: str) -> str:\n",
    "        return self.__encrypt_helper(msg, self.decryption_map)\n",
    "\n",
    "\n",
    "# this is a concrete class since it implements\n",
    "# both encrypt and decrypt\n",
    "class HexEncoder(EncryptionAlgorithm):\n",
    "    def __init__(self) -> None:\n",
    "        super().__init__()\n",
    "\n",
    "    # concrete method\n",
    "    def encrypt(self, msg: str) -> str:\n",
    "        return bytes(msg, \"utf8\").hex()\n",
    "\n",
    "    # concrete method\n",
    "    def decrypt(self, msg: str) -> str:\n",
    "        return bytes.fromhex(msg).decode()\n",
    "\n",
    "\n",
    "# this client code only needs to know that the objects\n",
    "# it gets will be able to encrypt and decrypt and doesn't\n",
    "# need to know how they will do so -> vv clean code\n",
    "def super_secret_message(encoder: EncryptionAlgorithm):\n",
    "    secret_msg = \"I love u LOTS\"\n",
    "    encrypted = encoder.encrypt(secret_msg)\n",
    "    print(encrypted)\n",
    "    decrypted = encoder.decrypt(encrypted)\n",
    "    print(decrypted)\n",
    "\n",
    "\n",
    "print(\"CaesarCipher\")\n",
    "super_secret_message(CaesarCipher(13))\n",
    "print(\"=\" * 32)\n",
    "print(\"HexEncoder\")\n",
    "super_secret_message(HexEncoder())"
   ]
  },
  {
   "cell_type": "code",
   "execution_count": 46,
   "metadata": {},
   "outputs": [],
   "source": [
    "# doing the below code will error out because\n",
    "# you cannot instantiate an abstract class that\n",
    "# has methods marked with the @abstractmethod decorator\n",
    "# feel free to try it yourself\n",
    "\n",
    "# a = EncryptionAlgorithm()\n",
    "# a.encrypt(\"hi there\")"
   ]
  },
  {
   "attachments": {},
   "cell_type": "markdown",
   "metadata": {},
   "source": [
    "### Practice"
   ]
  },
  {
   "attachments": {},
   "cell_type": "markdown",
   "metadata": {},
   "source": [
    "Now that we've seen abstraction at work, let's try it out! Try the following example problem:\n",
    "Create an abstract class `Sequence` that has a method `term` that takes an integer `n`. It should have the following subclasses:\n",
    "- `ArithmeticSequence` - formula: term_n = term_0 + n * common_difference\n",
    "- `GeometricSequence`  - formula: term_n = term_0 * common_ratio**n\n",
    "- `FibonacciSequence ` - formula: term_n = term_(n-1) + term_(n-2)\n",
    "\n",
    "that should each implement the `term` method with the correct formula. Then, have a function `get_terms` that takes a term object and a number of terms that should default to 5 and prints out that many terms in the sequence."
   ]
  },
  {
   "attachments": {},
   "cell_type": "markdown",
   "metadata": {},
   "source": [
    "<details>\n",
    "<summary>Example Solution</summary>\n",
    "\n",
    "```python\n",
    "# import ABC (the abstract class that abstract classes should inherit from)\n",
    "# and abstractmethod, a decorator used to indicate a method as abstract\n",
    "from abc import ABC, abstractmethod\n",
    "\n",
    "\n",
    "# this class is an abstract class that says that\n",
    "# All real sequences should be able to get the nth term\n",
    "class Sequence(ABC):\n",
    "    @abstractmethod\n",
    "    def term(self, n):\n",
    "        pass\n",
    "\n",
    "\n",
    "# this is a concrete class since it defines term\n",
    "class ArithmeticSequence(Sequence):\n",
    "    def __init__(self, initial_term, dif) -> None:\n",
    "        super().__init__()\n",
    "        self.initial_term = initial_term\n",
    "        self.dif = dif\n",
    "\n",
    "    def term(self, n):\n",
    "        return self.initial_term + n * self.dif\n",
    "\n",
    "\n",
    "# also a concrete class since it implements term\n",
    "class GeometricSequence(Sequence):\n",
    "    def __init__(self, initial_term, ratio) -> None:\n",
    "        super().__init__()\n",
    "        self.initial_term = initial_term\n",
    "        self.ratio = ratio\n",
    "\n",
    "    def term(self, n):\n",
    "        return self.initial_term * self.ratio**n\n",
    "\n",
    "\n",
    "# also a concrete class\n",
    "class FibonacciSequence(Sequence):\n",
    "    def __init__(self, term0=1, term1=1):\n",
    "        super().__init__()\n",
    "        self.terms = [term0, term1]\n",
    "\n",
    "    def term(self, n):\n",
    "        while len(self.terms) - 1 < n:\n",
    "            self.terms.append(self.terms[-1] + self.terms[-2])\n",
    "        return self.terms[n]\n",
    "\n",
    "\n",
    "# the power of abstraction; we take a sequence, and we don't know\n",
    "# how it works, but we know we can get the nth term\n",
    "def get_terms(seq: Sequence, num_terms=5):\n",
    "    for i in range(num_terms):\n",
    "        print(f\"term {i} is {seq.term(i)}\")\n",
    "\n",
    "\n",
    "print(\"Fibonacci\")\n",
    "get_terms(FibonacciSequence())\n",
    "print(\"=\" * 32)\n",
    "print(\"Geometric\")\n",
    "get_terms(GeometricSequence(2, 3))\n",
    "print(\"=\" * 32)\n",
    "print(\"Arithmetic\")\n",
    "get_terms(ArithmeticSequence(2, 3))\n",
    "print(\"=\" * 32)\n",
    "```\n",
    "</details>"
   ]
  },
  {
   "attachments": {},
   "cell_type": "markdown",
   "metadata": {},
   "source": [
    "## Properties and Protection"
   ]
  },
  {
   "attachments": {},
   "cell_type": "markdown",
   "metadata": {},
   "source": [
    "So far, we've just been dealing with plain old fields. While these are great, there's some disadvantages. For one, anyone can modify those fields, meaning that they might end up as values that they shouldn't be. To solve this problem, there's several conventions."
   ]
  },
  {
   "attachments": {},
   "cell_type": "markdown",
   "metadata": {},
   "source": [
    "### Underscores"
   ]
  },
  {
   "attachments": {},
   "cell_type": "markdown",
   "metadata": {},
   "source": [
    "Underscores are the simplest method of providing protection. When a field or method is prefaced with one underscore (`_`), this is convention that the field or method shouldn't be accessed outside the class. In other words, it's a way to tell other programmers to back off and not touch it. Let's see this at work:"
   ]
  },
  {
   "cell_type": "code",
   "execution_count": 81,
   "metadata": {},
   "outputs": [
    {
     "name": "stdout",
     "output_type": "stream",
     "text": [
      "I_l0ve_35UHSD\n"
     ]
    }
   ],
   "source": [
    "class ImportantData:\n",
    "    def __init__(self, username, password):\n",
    "        # since this isn't prefaced with an underscore, we're saying that it's okay to access this attribute from outside the class\n",
    "        self.username = username\n",
    "        # since this is prefaced with an underscore, we're saying that you shouldn't access this attribute from outside the class\n",
    "        self._password = password\n",
    "\n",
    "    def login(self):\n",
    "        print(f\"logging in with username {self.username} and password (redacted)\")\n",
    "\n",
    "\n",
    "login_information = ImportantData(\"East Side Union Administrator\", \"I_l0ve_35UHSD\")\n",
    "\n",
    "# note that the password is still accessible\n",
    "print(login_information._password)"
   ]
  },
  {
   "attachments": {},
   "cell_type": "markdown",
   "metadata": {},
   "source": [
    "So, if just providing a hint isn't good enough, two underscores (`__`) will ensure that the field or method can't be accessed outside the class. If someone does try to access it, the program will error and say that no such attribute exists. Let's see this at work:"
   ]
  },
  {
   "cell_type": "code",
   "execution_count": 83,
   "metadata": {},
   "outputs": [
    {
     "name": "stdout",
     "output_type": "stream",
     "text": [
      "Can't access the password...\n"
     ]
    }
   ],
   "source": [
    "class ImportantData:\n",
    "    def __init__(self, username, password):\n",
    "        # since this isn't prefaced with an underscore, we're saying that it's okay to access this attribute from outside the class\n",
    "        self.username = username\n",
    "        # since this is prefaced with two underscore, we're prohibiting it from being accessed from outside the class\n",
    "        self.__password = password\n",
    "\n",
    "    def login(self):\n",
    "        print(f\"logging in with username {self.username} and password (redacted)\")\n",
    "\n",
    "\n",
    "login_information = ImportantData(\"East Side Union Administrator\", \"I_l0ve_35UHSD\")\n",
    "\n",
    "# note that the password is no longer accessible\n",
    "try:\n",
    "    print(login_information.__password)\n",
    "except AttributeError:\n",
    "    print(\"Can't access the password...\")"
   ]
  },
  {
   "attachments": {},
   "cell_type": "markdown",
   "metadata": {},
   "source": [
    "### Properties"
   ]
  },
  {
   "attachments": {},
   "cell_type": "markdown",
   "metadata": {},
   "source": [
    "Now, sometimes we want a mix of protection and usability. Maybe we want to protect the actual data, but allow it to be retrieved and set to valid values. Here's where properties come in. Properties allow methods to be accessed like fields. Just put the `@property` decorator in front of a method and suddenly you have a getter for a \"field\".\n",
    "\n",
    "Normally, when using the `@property` decorator, setters and deleters are used too. These should also have the same name as the field, but they should be prefaced with `@fieldName.setter` and `@fieldName.deleter`, respectively. You don't have to provide one, but it may be useful. Let's look at an example: "
   ]
  },
  {
   "cell_type": "code",
   "execution_count": 89,
   "metadata": {},
   "outputs": [
    {
     "name": "stdout",
     "output_type": "stream",
     "text": [
      "1\n",
      "================================\n",
      "That's not a real number!\n",
      "1\n",
      "================================\n",
      "27\n"
     ]
    }
   ],
   "source": [
    "class RealNumber:\n",
    "    def __init__(self) -> None:\n",
    "        # notice how we used double underscores to make sure that it is protected\n",
    "        self.__val = 1\n",
    "\n",
    "    # getter\n",
    "    @property\n",
    "    def val(self):\n",
    "        return self.__val\n",
    "\n",
    "    # setter\n",
    "    @val.setter\n",
    "    def val(self, new_val):\n",
    "        if isinstance(new_val, int) and new_val > 0:\n",
    "            self.__val = new_val\n",
    "        else:\n",
    "            print(\"That's not a real number!\")\n",
    "\n",
    "\n",
    "my_real_number = RealNumber()\n",
    "print(my_real_number.val)\n",
    "print(\"=\" * 32)\n",
    "\n",
    "# it remains 1 because our setter made sure to verify\n",
    "# and only set self.__val if it is a valid real number\n",
    "my_real_number.val = -27\n",
    "print(my_real_number.val)\n",
    "print(\"=\" * 32)\n",
    "\n",
    "# this is a valid real number, so the setter succeeds and\n",
    "# self.__val is changed\n",
    "my_real_number.val = 27\n",
    "print(my_real_number.val)"
   ]
  },
  {
   "attachments": {},
   "cell_type": "markdown",
   "metadata": {},
   "source": [
    "### Practice"
   ]
  },
  {
   "attachments": {},
   "cell_type": "markdown",
   "metadata": {},
   "source": [
    "We now know how to protect our data in Python! Let's try the following example to practice:\n",
    "\n",
    "Create a class `BankAccount` that has the private fields `acct_number` and `balance` that are initialized in its constructor. There should be a getter for the account number, and the balance should have both a getter and a setter. In the balance's setter, deny all modifications that change the current balance by more than 10000 dollars."
   ]
  },
  {
   "attachments": {},
   "cell_type": "markdown",
   "metadata": {},
   "source": [
    "<details>\n",
    "<summary>Example Solution</summary>\n",
    "\n",
    "```python\n",
    "class BankAccount:\n",
    "    def __init__(self, acct_number, initial_balance) -> None:\n",
    "        self.__acct_number = acct_number\n",
    "        self.__balance = initial_balance\n",
    "\n",
    "    @property\n",
    "    def acct_number(self):\n",
    "        return self.__acct_number\n",
    "\n",
    "    @property\n",
    "    def balance(self):\n",
    "        return self.__balance\n",
    "\n",
    "    @balance.setter\n",
    "    def balance(self, new_balance):\n",
    "        if abs(new_balance - self.__balance) > 10000:\n",
    "            print(\"transaction denied\")\n",
    "        else:\n",
    "            self.__balance = new_balance\n",
    "```\n",
    "</details>"
   ]
  },
  {
   "attachments": {},
   "cell_type": "markdown",
   "metadata": {},
   "source": [
    "## Special Methods"
   ]
  },
  {
   "attachments": {},
   "cell_type": "markdown",
   "metadata": {},
   "source": [
    "Up till now, we've been using the special methods `__str__`, `__repr__` and `__init__`. However, there are many, many types of special methods. A full list can be found [in the official documentation](https://docs.python.org/3/reference/datamodel.html#special-method-names). We will cover a couple other important special methods here"
   ]
  },
  {
   "attachments": {},
   "cell_type": "markdown",
   "metadata": {},
   "source": [
    "### Custom Containers"
   ]
  },
  {
   "attachments": {},
   "cell_type": "markdown",
   "metadata": {},
   "source": [
    "#### `__len__`"
   ]
  },
  {
   "attachments": {},
   "cell_type": "markdown",
   "metadata": {},
   "source": [
    "This special method should return the length of an object. It allows `len(obj)` to work. Let's see an example:"
   ]
  },
  {
   "cell_type": "code",
   "execution_count": 110,
   "metadata": {},
   "outputs": [
    {
     "name": "stdout",
     "output_type": "stream",
     "text": [
      "10\n",
      "7\n",
      "2\n"
     ]
    }
   ],
   "source": [
    "from typing import List\n",
    "\n",
    "\n",
    "class CustomList:\n",
    "    def __init__(self, input_list: List) -> None:\n",
    "        self.lst = input_list\n",
    "\n",
    "    def __len__(self):\n",
    "        return len(self.lst)\n",
    "\n",
    "\n",
    "custom_list = CustomList([10, 7, 2])\n",
    "for i in range(len(custom_list)):\n",
    "    print(custom_list.lst[i])"
   ]
  },
  {
   "attachments": {},
   "cell_type": "markdown",
   "metadata": {},
   "source": [
    "#### `__getitem__` and `__setitem__`"
   ]
  },
  {
   "attachments": {},
   "cell_type": "markdown",
   "metadata": {},
   "source": [
    "These special methods allow you to do `obj[key]` and `obj[key] = ...`.\n",
    "- Signature of `__getitem__` is "
   ]
  },
  {
   "cell_type": "code",
   "execution_count": 126,
   "metadata": {},
   "outputs": [
    {
     "name": "stdout",
     "output_type": "stream",
     "text": [
      "10\n",
      "7\n",
      "2\n",
      "100\n"
     ]
    }
   ],
   "source": [
    "from typing import List\n",
    "\n",
    "\n",
    "class CustomList:\n",
    "    def __init__(self, input_list: List) -> None:\n",
    "        self.lst = input_list\n",
    "\n",
    "    def __len__(self):\n",
    "        return len(self.lst)\n",
    "\n",
    "    def __getitem__(self, key):\n",
    "        return self.lst[key]\n",
    "\n",
    "    def __setitem__(self, key, value):\n",
    "        self.lst[key] = value\n",
    "\n",
    "\n",
    "custom_list = CustomList([10, 7, 2])\n",
    "for i in range(len(custom_list)):\n",
    "    print(custom_list[i])  # utilizes __getitem__\n",
    "\n",
    "# this utilizes __setitem__\n",
    "custom_list[0] = 100\n",
    "print(custom_list[0])  # another call to __getitem__"
   ]
  },
  {
   "attachments": {},
   "cell_type": "markdown",
   "metadata": {},
   "source": [
    "#### `__iter__`"
   ]
  },
  {
   "attachments": {},
   "cell_type": "markdown",
   "metadata": {},
   "source": [
    "This method should return an iterable for the object. This allows you to do things like `for item in obj`. The signature of `__iter__` is `def __iter__(self):`"
   ]
  },
  {
   "cell_type": "code",
   "execution_count": 130,
   "metadata": {},
   "outputs": [
    {
     "name": "stdout",
     "output_type": "stream",
     "text": [
      "10\n",
      "7\n",
      "2\n"
     ]
    }
   ],
   "source": [
    "from typing import List\n",
    "\n",
    "\n",
    "class CustomList:\n",
    "    def __init__(self, input_list: List) -> None:\n",
    "        self.lst = input_list\n",
    "\n",
    "    def __len__(self):\n",
    "        return len(self.lst)\n",
    "\n",
    "    def __getitem__(self, key):\n",
    "        return self.lst[key]\n",
    "\n",
    "    def __setitem__(self, key, value):\n",
    "        self.lst[key] = value\n",
    "\n",
    "    def __iter__(self):\n",
    "        return iter(self.lst)\n",
    "\n",
    "\n",
    "custom_list = CustomList([10, 7, 2])\n",
    "for val in custom_list:  # this uses __iter__\n",
    "    print(val)"
   ]
  },
  {
   "attachments": {},
   "cell_type": "markdown",
   "metadata": {},
   "source": [
    "### Custom Attributes"
   ]
  },
  {
   "attachments": {},
   "cell_type": "markdown",
   "metadata": {},
   "source": [
    "### `__getattr__` and `__setattr__`"
   ]
  },
  {
   "attachments": {},
   "cell_type": "markdown",
   "metadata": {},
   "source": [
    "These special methods simulate attributes / fields of a class. For this reason, they are used to create what are often called \"virtual fields\", or fields that aren't a specific value. \n",
    "\n",
    "- `__getattr__` is called when `__getattribute__` errors (normally meaning that the class doesn't actually have a field or method of that name)\n",
    "- `__setattr__` is called when `obj.key = value` is done. Note that, if you implement this, then you must use `object.__setattr__` in order to do assignments"
   ]
  },
  {
   "cell_type": "code",
   "execution_count": 136,
   "metadata": {},
   "outputs": [
    {
     "name": "stdout",
     "output_type": "stream",
     "text": [
      "[10, 7, 2]\n",
      "We have no such attribute\n",
      "Not assigning that\n"
     ]
    }
   ],
   "source": [
    "from typing import Any, List\n",
    "\n",
    "\n",
    "class CustomList:\n",
    "    def __init__(self, input_list: List) -> None:\n",
    "        self.lst = input_list\n",
    "\n",
    "    def __setattr__(self, __name: str, __value: Any) -> None:\n",
    "        if __name == \"lst\":\n",
    "            super().__setattr__(__name, __value)\n",
    "        else:\n",
    "            print(\"Not assigning that\")\n",
    "    \n",
    "    def __getattr__(self, __name: str) -> Any:\n",
    "        return \"We have no such attribute\"\n",
    "\n",
    "custom_list = CustomList([10, 7, 2])\n",
    "print(custom_list.lst)\n",
    "print(custom_list.nonexistent)\n",
    "custom_list.nonexistent = 33"
   ]
  },
  {
   "attachments": {},
   "cell_type": "markdown",
   "metadata": {},
   "source": [
    "### Comparison Operators"
   ]
  },
  {
   "attachments": {},
   "cell_type": "markdown",
   "metadata": {},
   "source": [
    "- `def __lt__(self, __o) -> bool:` whether or not the object is \"less than\" another object\n",
    "- `def __le__(self, __o) -> bool:` whether or not the object is \"less than or equal to\" another object\n",
    "- `def __gt__(self, __o) -> bool:` whether or not the object is \"greater than\" another object\n",
    "- `def __ge__(self, __o) -> bool:` whether or not the object is \"greater than or equal to\" another object\n",
    "- `def __eq__(self, __o) -> bool:` whether or not the object is \"equal to\" another object\n",
    "- `def __ne__(self, __o) -> bool:` whether or not the object is \"not equal to\" another object\n"
   ]
  },
  {
   "cell_type": "code",
   "execution_count": 131,
   "metadata": {},
   "outputs": [
    {
     "data": {
      "text/plain": [
       "True"
      ]
     },
     "execution_count": 131,
     "metadata": {},
     "output_type": "execute_result"
    }
   ],
   "source": [
    "class BankAccount:\n",
    "    def __init__(self, balance) -> None:\n",
    "        self.balance = balance\n",
    "\n",
    "    def __lt__(self, __o) -> bool:\n",
    "        if isinstance(__o, BankAccount):\n",
    "            return self.balance < __o.balance\n",
    "        raise TypeError(\n",
    "            f\"Cannot compare BankAccount object to object of type {type(__o)}\"\n",
    "        )\n",
    "\n",
    "    def __le__(self, __o) -> bool:\n",
    "        return self < __o or self == _o\n",
    "\n",
    "    def __gt__(self, __o) -> bool:\n",
    "        return not self <= __o\n",
    "\n",
    "    def __ge__(self, __o) -> bool:\n",
    "        return not self < __o\n",
    "\n",
    "    def __eq__(self, __o) -> bool:\n",
    "        if isinstance(__o, BankAccount):\n",
    "            return self.balance == __o.balance\n",
    "        raise TypeError(\n",
    "            f\"Cannot compare BankAccount object to object of type {type(__o)}\"\n",
    "        )\n",
    "\n",
    "    def __ne__(self, __o) -> bool:\n",
    "        return not self == __o\n",
    "\n",
    "\n",
    "my_bank = BankAccount(100)\n",
    "jeff_bezos_bank = BankAccount(1e10)\n",
    "my_bank < jeff_bezos_bank"
   ]
  },
  {
   "attachments": {},
   "cell_type": "markdown",
   "metadata": {},
   "source": [
    "### Arithmetic Operators"
   ]
  },
  {
   "attachments": {},
   "cell_type": "markdown",
   "metadata": {},
   "source": [
    "- `def __add__(self, __o):` - implements `obj + __o` \n",
    "- `def __radd__(self, __o):` - implements `__o + obj`\n",
    "- `def __iadd__(self, __o):` - implements `obj += __o`\n",
    "- `def __sub__(self, __o):` - implements `obj - __o`\n",
    "- `def __rsub__(self, __o):` - implements `__o - obj`\n",
    "- `def __isub__(self, __o):` -implements `obj -= __o`"
   ]
  },
  {
   "cell_type": "code",
   "execution_count": 133,
   "metadata": {},
   "outputs": [
    {
     "name": "stdout",
     "output_type": "stream",
     "text": [
      "10000000100.0\n"
     ]
    }
   ],
   "source": [
    "class BankAccount:\n",
    "    def __init__(self, balance) -> None:\n",
    "        self.balance = balance\n",
    "\n",
    "    def check_type(self, __o):\n",
    "        if not isinstance(__o, BankAccount):\n",
    "            raise TypeError(\n",
    "                f\"Cannot compare BankAccount object to object of type {type(__o)}\"\n",
    "            )\n",
    "\n",
    "    def __add__(self, __o) -> BankAccount:\n",
    "        self.check_type(__o)\n",
    "        return BankAccount(self.balance + __o.balance)\n",
    "\n",
    "    def __radd__(self, __o) -> BankAccount:\n",
    "        return self + __o\n",
    "    \n",
    "    def __iadd__(self, __o) -> BankAccount:\n",
    "        self.check_type(__o)\n",
    "        self.balance += __o.balance\n",
    "        return self\n",
    "\n",
    "    def __sub__(self, __o) -> BankAccount:\n",
    "        self.check_type(__o)\n",
    "        return BankAccount(self.balance - __o.balance)\n",
    "\n",
    "    def __rsub__(self, __o) -> BankAccount:\n",
    "        return self - __o\n",
    "    \n",
    "    def __isub__(self, __o) -> BankAccount:\n",
    "        self.check_type(__o)\n",
    "        self.balance -= __o.balance\n",
    "        return self\n",
    "\n",
    "\n",
    "my_bank = BankAccount(100)\n",
    "jeff_bezos_bank = BankAccount(1e10)\n",
    "my_bank += jeff_bezos_bank  # add bank accounts!!!\n",
    "print(my_bank.balance)"
   ]
  },
  {
   "attachments": {},
   "cell_type": "markdown",
   "metadata": {},
   "source": [
    "## `__new__()`"
   ]
  },
  {
   "attachments": {},
   "cell_type": "markdown",
   "metadata": {},
   "source": [
    "We know about the `__init__()` method and how it initializes new instances. But how does Python create those instances in the first place? That's the job of the `__new__()` method. Most of the time, you don't have reason to touch this method, but if you do need to control the creation of an object. According to the official Python documentation:\n",
    "> __new__() is intended mainly to allow subclasses of immutable types (like int, str, or tuple) to customize instance creation. It is also commonly overridden in custom metaclasses in order to customize class creation."
   ]
  },
  {
   "attachments": {},
   "cell_type": "markdown",
   "metadata": {},
   "source": [
    "The `__new__()` method is often done as follows:\n",
    "```python\n",
    "def __new__(cls):\n",
    "    return super().__new__(cls)\n",
    "```\n",
    "You see, the `__new__()` method is actually called behind the scenes with a class that it is supposed to instantiate. In other words, the new method is when the python interpreter is given a class and is told to make an object of that class. That is why it takes `cls` as a parameter. Then, since we don't actually have control over memory, we let Python handle the allocation. That's what the `super().__new__(cls)` does. All classes inherit from `object`, which is a Python builtin, and thus eventually your class's new will call object's new which will do the allocation.\n",
    "> Since an object has to be created before it can be initialized, `__new__()` runs before `__init__()`."
   ]
  },
  {
   "attachments": {},
   "cell_type": "markdown",
   "metadata": {},
   "source": [
    "### Example 1"
   ]
  },
  {
   "cell_type": "code",
   "execution_count": 97,
   "metadata": {},
   "outputs": [
    {
     "name": "stdout",
     "output_type": "stream",
     "text": [
      "New object will be instantiated\n",
      "This new object will be initialized now\n"
     ]
    }
   ],
   "source": [
    "class SpecialClass:\n",
    "    def __new__(cls):\n",
    "        print(\"New object will be instantiated\")\n",
    "        return super().__new__(cls)\n",
    "\n",
    "    def __init__(self) -> None:\n",
    "        print(\"This new object will be initialized now\")\n",
    "\n",
    "\n",
    "obj = SpecialClass()"
   ]
  },
  {
   "attachments": {},
   "cell_type": "markdown",
   "metadata": {},
   "source": [
    "### Example 2"
   ]
  },
  {
   "attachments": {},
   "cell_type": "markdown",
   "metadata": {},
   "source": [
    "Here's an example of the `__new__` method at work. Notice the signature of `__new__` now; because the init method takes arguments, it is important that the `__new__` method is capable of receiving arguments as well."
   ]
  },
  {
   "cell_type": "code",
   "execution_count": 102,
   "metadata": {},
   "outputs": [
    {
     "data": {
      "text/plain": [
       "47"
      ]
     },
     "execution_count": 102,
     "metadata": {},
     "output_type": "execute_result"
    }
   ],
   "source": [
    "class SpecialClass:\n",
    "    # we take these because we know that the initializer takes parameters,\n",
    "    # but we are not concerned with what those are\n",
    "    # so we just take *args and **kwargs\n",
    "    def __new__(cls, *args, **kwargs):\n",
    "        instance = super().__new__(cls)\n",
    "\n",
    "        # modify the instance before sending it to the __init__ method\n",
    "        instance.special_attribute = 47\n",
    "\n",
    "        # return it to be initialized\n",
    "        return instance\n",
    "\n",
    "    # this recieves the created instance from __new__\n",
    "    def __init__(self, name, other) -> None:\n",
    "        self.name = name\n",
    "        self.other = other\n",
    "\n",
    "    def __str__(self) -> str:\n",
    "        return f\"{self.name}, {self.other}\"\n",
    "\n",
    "    def __repr__(self) -> str:\n",
    "        return str(self)\n",
    "\n",
    "\n",
    "obj = SpecialClass(\"hi\", \"there\")\n",
    "\n",
    "# the object has this attribute because of the __new__ method\n",
    "obj.special_attribute"
   ]
  },
  {
   "attachments": {},
   "cell_type": "markdown",
   "metadata": {},
   "source": [
    "## MetaClasses"
   ]
  },
  {
   "attachments": {},
   "cell_type": "markdown",
   "metadata": {},
   "source": [
    "You may not see why the `__new__` method is so important. Well, as the documentation mentions, it is very useful in metaclasses. So, what is a metaclass? In essence, a metaclass is a \"class factory\", or a class that determines how classes are made. Often, it will define the `__new__` method to a custom method. To specify an object as having a certain metaclass, we do something very similar to how we specified parent classes. The format is: `class ClassName(metaclass=MetaClassName):`. The metaclass, in turn, should derive from `type`. This is why the `__new__` method must contain the arguments `cls`, `name`, `bases`, and `dct`. `type`'s `__new__` method takes the class to instantiate, the name of the class, any bases (parent classes) that the class has, and a namespace dictionary, or a dictionary of all the properties that are in the class. Thus, a metaclass's `__new__` must take those as well."
   ]
  },
  {
   "attachments": {},
   "cell_type": "markdown",
   "metadata": {},
   "source": [
    "### Example"
   ]
  },
  {
   "cell_type": "code",
   "execution_count": 109,
   "metadata": {},
   "outputs": [
    {
     "name": "stdout",
     "output_type": "stream",
     "text": [
      "47\n",
      "100\n"
     ]
    }
   ],
   "source": [
    "class MetaClass(type):\n",
    "    def __new__(cls, name, bases, dct):\n",
    "        instance = super().__new__(cls, name, bases, dct)\n",
    "\n",
    "        instance.custom_field = 47\n",
    "        instance.custom_method = lambda self, x: x**2\n",
    "\n",
    "        return instance\n",
    "\n",
    "\n",
    "class SpecialClass(metaclass=MetaClass):\n",
    "    # this recieves the created instance from __new__\n",
    "    def __init__(self, name, other) -> None:\n",
    "        self.name = name\n",
    "        self.other = other\n",
    "\n",
    "    def __str__(self) -> str:\n",
    "        return f\"{self.name}, {self.other}\"\n",
    "\n",
    "    def __repr__(self) -> str:\n",
    "        return str(self)\n",
    "\n",
    "\n",
    "obj = SpecialClass(\"hi\", \"there\")\n",
    "print(obj.custom_field)\n",
    "print(obj.custom_method(10))"
   ]
  },
  {
   "attachments": {},
   "cell_type": "markdown",
   "metadata": {},
   "source": [
    "As we can see, metaclasses and the `__new__` method can be used to give objects fields and methods and control their creation. Most of the work, however, can also be done with just inheritance. Thus, only use a metaclass if you know you need to use a metaclass."
   ]
  },
  {
   "attachments": {},
   "cell_type": "markdown",
   "metadata": {},
   "source": [
    "## Dataclasses"
   ]
  },
  {
   "attachments": {},
   "cell_type": "markdown",
   "metadata": {},
   "source": [
    "Dataclasses are a way to automate your `__init__` and `__repr__` methods. All you have to do is define the attributes that instances must have (define them as class variables), use the `@dataclass` decorator on your class, and then Python takes care of the rest. Let's see an example:"
   ]
  },
  {
   "cell_type": "code",
   "execution_count": 137,
   "metadata": {},
   "outputs": [
    {
     "data": {
      "text/plain": [
       "Book(author='Intro to C++', title='ISO CPP', price=10.0)"
      ]
     },
     "execution_count": 137,
     "metadata": {},
     "output_type": "execute_result"
    }
   ],
   "source": [
    "# dataclasses is the module that has the dataclass decorator\n",
    "from dataclasses import dataclass\n",
    "\n",
    "@dataclass\n",
    "class Book:\n",
    "    author:str\n",
    "    title:str\n",
    "    price:float=10.0\n",
    "\n",
    "my_book = Book(\"Intro to C++\", \"ISO CPP\")  # constructor provided!!\n",
    "my_book  # __repr__ method provided as well!"
   ]
  }
 ],
 "metadata": {
  "kernelspec": {
   "display_name": "Python 3",
   "language": "python",
   "name": "python3"
  },
  "language_info": {
   "codemirror_mode": {
    "name": "ipython",
    "version": 3
   },
   "file_extension": ".py",
   "mimetype": "text/x-python",
   "name": "python",
   "nbconvert_exporter": "python",
   "pygments_lexer": "ipython3",
   "version": "3.10.6"
  },
  "orig_nbformat": 4
 },
 "nbformat": 4,
 "nbformat_minor": 2
}
