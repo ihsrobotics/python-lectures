{
 "cells": [
  {
   "cell_type": "markdown",
   "metadata": {},
   "source": [
    "# Functions"
   ]
  },
  {
   "cell_type": "markdown",
   "metadata": {},
   "source": [
    "## Topics in this Notebook:"
   ]
  },
  {
   "cell_type": "markdown",
   "metadata": {},
   "source": [
    "- Overview\n",
    "- Definition\n",
    "- Parameters\n",
    "- Regular arguments\n",
    "- Default parameters + lifetime\n",
    "- *args\n",
    "- **kwargs\n",
    "- Nested functions\n",
    "- Capture rules\n"
   ]
  },
  {
   "cell_type": "markdown",
   "metadata": {},
   "source": [
    "## Overview"
   ]
  },
  {
   "cell_type": "markdown",
   "metadata": {},
   "source": [
    "What is a function? In essence, a function is a block of code that you can execute again and again without having to type it out each time you want to run it. Functions can do everything that code placed in the main part of a Python file can do, meaning that functions can even call other functions and access/modify global variables."
   ]
  },
  {
   "cell_type": "markdown",
   "metadata": {},
   "source": [
    "## Definition"
   ]
  },
  {
   "cell_type": "markdown",
   "metadata": {},
   "source": [
    "To define a function in Python, use the `def` keyword. The syntax is as follows:"
   ]
  },
  {
   "cell_type": "code",
   "execution_count": 1,
   "metadata": {},
   "outputs": [],
   "source": [
    "def function_name():\n",
    "    # code goes here\n",
    "    pass\n"
   ]
  },
  {
   "cell_type": "markdown",
   "metadata": {},
   "source": [
    "> Make sure you remember the parentheses and colon after your function name!\n",
    "\n",
    "Once you have defined your function, you can call it by just doing `function_name()`!"
   ]
  },
  {
   "cell_type": "markdown",
   "metadata": {},
   "source": [
    "### Examples"
   ]
  },
  {
   "cell_type": "markdown",
   "metadata": {},
   "source": [
    "Here's an example of a function that says hello and how to call it:"
   ]
  },
  {
   "cell_type": "code",
   "execution_count": 2,
   "metadata": {},
   "outputs": [
    {
     "name": "stdout",
     "output_type": "stream",
     "text": [
      "hello\n",
      "hello\n",
      "hello\n",
      "hello\n",
      "hello\n",
      "hello\n",
      "hello\n",
      "hello\n",
      "hello\n",
      "hello\n"
     ]
    }
   ],
   "source": [
    "def say_hello_ten_times():\n",
    "    for i in range(10):\n",
    "        print(\"hello\")\n",
    "\n",
    "\n",
    "say_hello_ten_times()\n"
   ]
  },
  {
   "cell_type": "markdown",
   "metadata": {},
   "source": [
    "Here's an example of a function accessing and modifying a global variable"
   ]
  },
  {
   "cell_type": "code",
   "execution_count": 3,
   "metadata": {},
   "outputs": [
    {
     "name": "stdout",
     "output_type": "stream",
     "text": [
      "33\n",
      "55\n"
     ]
    }
   ],
   "source": [
    "global_var = 33\n",
    "\n",
    "\n",
    "def modify_global_var():\n",
    "    # often, it is necessary to specify that you are accessing the global variable,\n",
    "    # otherwise you may end up creating a local variable or getting a syntax error\n",
    "    global global_var\n",
    "    global_var += 22\n",
    "\n",
    "\n",
    "print(global_var)\n",
    "modify_global_var()  # the function accesses it and then modifies it\n",
    "print(global_var)\n"
   ]
  },
  {
   "cell_type": "markdown",
   "metadata": {},
   "source": [
    "Here's another function example. This one \"cooks breakfast\""
   ]
  },
  {
   "cell_type": "code",
   "execution_count": 4,
   "metadata": {},
   "outputs": [
    {
     "name": "stdout",
     "output_type": "stream",
     "text": [
      "making breakfast...\n",
      "making eggs...\n",
      "made eggs! 🥚\n",
      "making toast...\n",
      "made toast! 🥖\n",
      "made breakfast!!!🍴\n"
     ]
    }
   ],
   "source": [
    "def make_eggs():\n",
    "    \"\"\"\n",
    "    This function makes eggs and prints out eggs\n",
    "    \"\"\"\n",
    "    print(\"making eggs...\")\n",
    "    print(\"made eggs! 🥚\")\n",
    "\n",
    "\n",
    "def make_toast():\n",
    "    \"\"\"\n",
    "    This function makes toast and prints out toast\n",
    "    \"\"\"\n",
    "    print(\"making toast...\")\n",
    "    print(\"made toast! 🥖\")\n",
    "\n",
    "\n",
    "def cook_breakfast():\n",
    "    print(\"making breakfast...\")\n",
    "    make_eggs()  # call a function within a function!!\n",
    "    make_toast()\n",
    "    print(\"made breakfast!!!🍴\")\n",
    "\n",
    "\n",
    "cook_breakfast()\n"
   ]
  },
  {
   "cell_type": "markdown",
   "metadata": {},
   "source": [
    "## Parameters / Arguments"
   ]
  },
  {
   "cell_type": "markdown",
   "metadata": {},
   "source": [
    "So now that you've seen functions in action, they're pretty cool right? However, they're not that useful --- yet. As of now, they just execute a block of code that produces the same results every time; convenient, but not that useful. Parameters allow your functions to be more useful. They essentially function as extra variables that can be accessed within the function (more on this later), allowing your functions to do more with the same code. Not all functions need to take parameters, but in order to take parameters, just put the parameter names in between the parentheses, and separate parameters with commas as shown below:"
   ]
  },
  {
   "cell_type": "code",
   "execution_count": 5,
   "metadata": {},
   "outputs": [],
   "source": [
    "# this function takes zero parameters (nothing in between the parentheses)\n",
    "def zero_parameter_function():\n",
    "    pass\n",
    "\n",
    "\n",
    "# just put the name of the parameter in between the parentheses in order to take a parameter in a function\n",
    "def one_parameter_function(parameter_name):\n",
    "    pass\n",
    "\n",
    "\n",
    "# separate parameters with commas\n",
    "def two_parameter_function(first_parameter_name, second_parameter_name):\n",
    "    pass\n",
    "\n",
    "\n",
    "# functions can have as many parameters as you need\n",
    "def many_parameter_function(a, b, c, d, e, f, g, h):\n",
    "    pass\n"
   ]
  },
  {
   "cell_type": "markdown",
   "metadata": {},
   "source": [
    "When you call the function, the values you pass are called \"arguments\"."
   ]
  },
  {
   "cell_type": "code",
   "execution_count": 2,
   "metadata": {},
   "outputs": [
    {
     "ename": "NameError",
     "evalue": "name 'one_parameter_function' is not defined",
     "output_type": "error",
     "traceback": [
      "\u001b[0;31m---------------------------------------------------------------------------\u001b[0m",
      "\u001b[0;31mNameError\u001b[0m                                 Traceback (most recent call last)",
      "\u001b[0;32m<ipython-input-2-f81858ae2890>\u001b[0m in \u001b[0;36m<module>\u001b[0;34m\u001b[0m\n\u001b[1;32m      1\u001b[0m \u001b[0;31m# in this case, the argument 33 is passed to one_parameter_function\u001b[0m\u001b[0;34m\u001b[0m\u001b[0;34m\u001b[0m\u001b[0;34m\u001b[0m\u001b[0m\n\u001b[0;32m----> 2\u001b[0;31m \u001b[0mone_parameter_function\u001b[0m\u001b[0;34m(\u001b[0m\u001b[0;36m33\u001b[0m\u001b[0;34m)\u001b[0m\u001b[0;34m\u001b[0m\u001b[0;34m\u001b[0m\u001b[0m\n\u001b[0m",
      "\u001b[0;31mNameError\u001b[0m: name 'one_parameter_function' is not defined"
     ]
    }
   ],
   "source": [
    "# in this case, the argument 33 is passed to one_parameter_function\n",
    "one_parameter_function(33)\n"
   ]
  },
  {
   "cell_type": "markdown",
   "metadata": {},
   "source": [
    "### Examples"
   ]
  },
  {
   "cell_type": "markdown",
   "metadata": {},
   "source": [
    "Here's an example of parameters at work. Remember the function that said \"hello\" 10 times? Let's make a separate function that uses parameters in order to make that function say \"hello\" different amounts of times."
   ]
  },
  {
   "cell_type": "code",
   "execution_count": 3,
   "metadata": {},
   "outputs": [
    {
     "name": "stdout",
     "output_type": "stream",
     "text": [
      "================================\n",
      "Attempt 1:\n",
      "hello\n",
      "hello\n",
      "hello\n",
      "hello\n",
      "hello\n",
      "================================\n",
      "Attempt 2:\n",
      "hello\n",
      "hello\n",
      "hello\n",
      "hello\n",
      "hello\n",
      "hello\n",
      "hello\n",
      "hello\n",
      "hello\n",
      "hello\n",
      "hello\n",
      "hello\n",
      "hello\n",
      "================================\n"
     ]
    }
   ],
   "source": [
    "def say_hello_many_times(num_times):\n",
    "    \"\"\"\n",
    "    This function says \"hello\" `num_times` times\n",
    "    \"\"\"\n",
    "    for i in range(num_times):  # we can access num_times just like a regular variable\n",
    "        print(\"hello\")\n",
    "\n",
    "\n",
    "print(\"=\" * 32)\n",
    "print(\"Attempt 1:\")\n",
    "# when we do this, num_times becomes equal to the argument, 5, and thus the program prints hello 5 times\n",
    "say_hello_many_times(5)\n",
    "print(\"=\" * 32)\n",
    "\n",
    "print(\"Attempt 2:\")\n",
    "# This time, num_times becomes equal to 13, and the program prints hello 13 times\n",
    "say_hello_many_times(13)\n",
    "print(\"=\" * 32)\n"
   ]
  },
  {
   "cell_type": "markdown",
   "metadata": {},
   "source": [
    "As you can see parameters allow our functions to be much more flexible!"
   ]
  },
  {
   "cell_type": "markdown",
   "metadata": {},
   "source": [
    "## Return Statements"
   ]
  },
  {
   "cell_type": "markdown",
   "metadata": {},
   "source": [
    "Up till now, we've been working with \"non-fruitful\" functions, or functions that don't return anything. We are now going to discuss \"fruitful\" functions, or functions that return a value. In Python, functions can return a value with the `return` keyword."
   ]
  },
  {
   "cell_type": "code",
   "execution_count": 8,
   "metadata": {},
   "outputs": [
    {
     "name": "stdout",
     "output_type": "stream",
     "text": [
      "90\n"
     ]
    }
   ],
   "source": [
    "def sum_two_values(a, b):\n",
    "    # return the sum of a and b\n",
    "    return a + b\n",
    "\n",
    "\n",
    "# summed_value will be equal to 90 since the value\n",
    "# returned by the function essentially takes the place\n",
    "# of where the function was called, meaning\n",
    "# that we are setting summed_value = 90\n",
    "summed_value = sum_two_values(35, 55)\n",
    "print(summed_value)\n"
   ]
  },
  {
   "cell_type": "markdown",
   "metadata": {},
   "source": [
    "## Default Parameters + Lifetime"
   ]
  },
  {
   "cell_type": "markdown",
   "metadata": {},
   "source": [
    "Sometimes, we don't want to provide every single parameter to a function. For example, it could be that the function takes many parameters to control many things that we don't need to control. In cases like these, default parameters are useful. Default parameters are essentially default values that parameters will have if no value is provided.\n",
    "\n",
    "To define a default parameter, just do `=value` after a parameter name. Here's an example:"
   ]
  },
  {
   "cell_type": "code",
   "execution_count": 9,
   "metadata": {},
   "outputs": [],
   "source": [
    "# In this function, param defaults to 2048\n",
    "def default_parameter_function(param=2048):\n",
    "    pass\n"
   ]
  },
  {
   "cell_type": "markdown",
   "metadata": {},
   "source": [
    "It's important to remember that default parameters **MUST** come at the end of the parameter list and **CANNOT** be placed before parameters without default values"
   ]
  },
  {
   "cell_type": "code",
   "execution_count": 10,
   "metadata": {},
   "outputs": [
    {
     "name": "stdout",
     "output_type": "stream",
     "text": [
      "6\n",
      "10\n"
     ]
    }
   ],
   "source": [
    "# this is a valid function\n",
    "def add_three_values(a, b, c=3):\n",
    "    return a + b + c\n",
    "\n",
    "\n",
    "\"\"\"\n",
    "# this is an invalid function since a default parameter (a) is placed\n",
    "# in front of non-default parameters (b and c)\n",
    "# if you want, uncomment this function and see what error you get\n",
    "def broken_add_three_values(a=1, b, c):\n",
    "    return a + b + c\n",
    "\"\"\"\n",
    "\n",
    "# prints 6 (1 + 2 + 3) since 3 is the default parameter that we didn't have to pass\n",
    "print(add_three_values(1, 2))\n",
    "# prints 10 (1 + 2 + 7) since we provided a value for c, so the program doesn't use the default value of 3\n",
    "print(add_three_values(1, 2, 7))\n"
   ]
  },
  {
   "cell_type": "markdown",
   "metadata": {},
   "source": [
    "When making default parameters, it is important to note that those default parameters are really variables that belong to the function. What this means is that they can be modified if they are not literals. The following examples show how this works"
   ]
  },
  {
   "cell_type": "code",
   "execution_count": 11,
   "metadata": {},
   "outputs": [
    {
     "name": "stdout",
     "output_type": "stream",
     "text": [
      "6\n",
      "6\n",
      "(3,)\n"
     ]
    }
   ],
   "source": [
    "# this code example doesn't modify the default value\n",
    "def fail_to_modify(a, b, c=3):\n",
    "    c += a + b\n",
    "    print(c)\n",
    "\n",
    "\n",
    "fail_to_modify(1, 2)\n",
    "fail_to_modify(1, 2)\n",
    "\n",
    "# default parameters are stored in the __defaults__ attribute of a function\n",
    "# As we can see, the value 3 is stored as a default, meaning that\n",
    "# even though fail_to_modify does c+= a + b, this only modifies it within the\n",
    "# function, and the default remains the same literal value of 3\n",
    "print(fail_to_modify.__defaults__)\n"
   ]
  },
  {
   "cell_type": "code",
   "execution_count": 12,
   "metadata": {},
   "outputs": [
    {
     "name": "stdout",
     "output_type": "stream",
     "text": [
      "[1, 2, 3, 1]\n",
      "[1, 2, 3, 1, 1]\n",
      "([1, 2, 3, 1, 1],)\n"
     ]
    }
   ],
   "source": [
    "# this code example does modify the default value\n",
    "def modify_default_parameter(a, b=[1, 2, 3]):\n",
    "    b.append(a)\n",
    "    print(b)\n",
    "\n",
    "\n",
    "modify_default_parameter(1)\n",
    "modify_default_parameter(1)\n",
    "\n",
    "# default parameters are stored in the __defaults__ attribute of a function\n",
    "# As we can see, a list object is stored as a default, meaning that\n",
    "# when b.append is called, it modifies that object, causing our default\n",
    "# parameter to \"change\"\n",
    "print(modify_default_parameter.__defaults__)\n"
   ]
  },
  {
   "cell_type": "markdown",
   "metadata": {},
   "source": [
    "As we can see, we now must make an important distinction in terms of arguments. When passing literals as arguments, they cannot be modified by the function. When passing objects are arguments, they can be modified by the function. (A list, for example, is an object and can be modified when passed as an argument, but a variable with the number 33 won't be modified when passed as an argument)"
   ]
  },
  {
   "cell_type": "markdown",
   "metadata": {},
   "source": [
    "## `*args` and `**kwargs`"
   ]
  },
  {
   "cell_type": "markdown",
   "metadata": {},
   "source": [
    "`*args` is a special way to take as many arguments as the user provides. What it does is it collects all the arguments into a tuple. This is useful when you want to take an unknown amount of arguments."
   ]
  },
  {
   "cell_type": "code",
   "execution_count": 13,
   "metadata": {},
   "outputs": [
    {
     "name": "stdout",
     "output_type": "stream",
     "text": [
      "45\n",
      "1000\n",
      "0\n"
     ]
    }
   ],
   "source": [
    "def sum_all(*args):\n",
    "    total = 0\n",
    "    for val in args:\n",
    "        total += val\n",
    "    return total\n",
    "\n",
    "\n",
    "# When we call sum_all in this case, args is the tuple (1, 2, 3, 4, 5, 6, 7, 8, 9)\n",
    "print(sum_all(1, 2, 3, 4, 5, 6, 7, 8, 9))\n",
    "print(sum_all(100, 600, 300))  # args is (100, 600, 300)\n",
    "print(sum_all())  # 0 items in the tuple, so total remains 0\n"
   ]
  },
  {
   "cell_type": "markdown",
   "metadata": {},
   "source": [
    "`**kwargs` is a way to take any named parameters. It stands for keyword args, because it takes names as well as value. What it does is it collects all the named parameters (that aren't named in the function definition) into a dictionary. See below for an example "
   ]
  },
  {
   "cell_type": "code",
   "execution_count": 14,
   "metadata": {},
   "outputs": [
    {
     "name": "stdout",
     "output_type": "stream",
     "text": [
      "a and b are (33, 2)\n",
      "kwargs are: {'cool_name': 'L3genD'}\n",
      "a and b are (2, 6)\n",
      "kwargs are: {'c': 1, 'z': 58, 'other': 'other'}\n"
     ]
    }
   ],
   "source": [
    "def take_kwargs(a, b, **kwargs):\n",
    "    print(\"a and b are\", (a, b))\n",
    "    print(f\"kwargs are: {kwargs}\")\n",
    "\n",
    "\n",
    "# what we do here is specify the values of a and b, so the only\n",
    "# real kwarg here is cool_name, which has a value of \"L3genD\"\n",
    "take_kwargs(a=33, b=2, cool_name=\"L3genD\")\n",
    "\n",
    "# here, we provide the kwargs of c, z, and other\n",
    "take_kwargs(b=6, c=1, z=58, other=\"other\", a=2)\n"
   ]
  },
  {
   "cell_type": "markdown",
   "metadata": {},
   "source": [
    "## Nested Functions"
   ]
  },
  {
   "cell_type": "markdown",
   "metadata": {},
   "source": [
    "Nested functions are functions within functions. Simple as that! It is worthwhile to note that nested functions aren't easily accessible to the outside, so if you want to hide a function because it will only be used in a specific area, this might be the way to go."
   ]
  },
  {
   "cell_type": "code",
   "execution_count": 20,
   "metadata": {},
   "outputs": [
    {
     "name": "stdout",
     "output_type": "stream",
     "text": [
      "Order up for Joe East!\n",
      "super secret recipe...\n",
      "Verifying ... RFBHUNIK@#(*U(FJKSDNC))\n",
      "prepared the recipe for Joe East: 🥪\n",
      "no one will ever know how we made this\n",
      "prepared the drink for Joe East: 🍹\n",
      "Enjoy!\n"
     ]
    }
   ],
   "source": [
    "def make_lunch(recipient_name):\n",
    "    super_secret_verification = \"RFBHUNIK@#(*U(FJKSDNC))\"\n",
    "\n",
    "    def make_secret_recipe_sandwich():\n",
    "        print(\"super secret recipe...\")\n",
    "        # nested functions can access the variables and parameters of the outer function\n",
    "        # This is somewhat similar to how functions can access global variables, except\n",
    "        # it doesn't need any qualifiers\n",
    "        print(f\"Verifying ... {super_secret_verification}\")\n",
    "        print(f\"prepared the recipe for {recipient_name}: 🥪\")\n",
    "\n",
    "    def make_secret_recipe_juice():\n",
    "        print(\"no one will ever know how we made this\")\n",
    "        print(f\"prepared the drink for {recipient_name}: 🍹\")\n",
    "\n",
    "    print(f\"Order up for {recipient_name}!\")\n",
    "    make_secret_recipe_sandwich()\n",
    "    make_secret_recipe_juice()\n",
    "    print(\"Enjoy!\")\n",
    "\n",
    "\n",
    "make_lunch(\"Joe East\")\n"
   ]
  },
  {
   "cell_type": "code",
   "execution_count": null,
   "metadata": {},
   "outputs": [],
   "source": []
  }
 ],
 "metadata": {
  "kernelspec": {
   "display_name": "Python 3",
   "language": "python",
   "name": "python3"
  },
  "language_info": {
   "codemirror_mode": {
    "name": "ipython",
    "version": 3
   },
   "file_extension": ".py",
   "mimetype": "text/x-python",
   "name": "python",
   "nbconvert_exporter": "python",
   "pygments_lexer": "ipython3",
   "version": "3.8.10"
  }
 },
 "nbformat": 4,
 "nbformat_minor": 2
}
