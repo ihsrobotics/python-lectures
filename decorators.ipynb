{
 "cells": [
  {
   "attachments": {},
   "cell_type": "markdown",
   "metadata": {},
   "source": [
    "# Decorators\n",
    "\n",
    "## What is a decorator\n",
    "A decorator is a way to wrap a function to add functionality before and after a metod is called or to augment a type.\n",
    "\n",
    "A simple wrapper:"
   ]
  },
  {
   "cell_type": "code",
   "execution_count": 20,
   "metadata": {},
   "outputs": [
    {
     "name": "stdout",
     "output_type": "stream",
     "text": [
      "Entering function.\n",
      "Well, Hello there!\n",
      "Leaving function.\n",
      "Entering function.\n",
      "toodles!\n",
      "Leaving function.\n"
     ]
    }
   ],
   "source": [
    "def very_simple_decorator(f):\n",
    "    def simple_wrapper():\n",
    "        print(\"Entering function.\")\n",
    "        result = f()\n",
    "        print (\"Leaving function.\")\n",
    "        return result\n",
    "    return simple_wrapper\n",
    "\n",
    "@very_simple_decorator\n",
    "def say_hi():\n",
    "    print(\"Well, Hello there!\")\n",
    "\n",
    "@very_simple_decorator\n",
    "def say_goodbye():\n",
    "    print(\"toodles!\")\n",
    "\n",
    "say_hi()\n",
    "say_goodbye()\n"
   ]
  },
  {
   "attachments": {},
   "cell_type": "markdown",
   "metadata": {},
   "source": [
    "This is a more complex wrapper that passes arguments along:"
   ]
  },
  {
   "cell_type": "code",
   "execution_count": 32,
   "metadata": {},
   "outputs": [
    {
     "name": "stdout",
     "output_type": "stream",
     "text": [
      "Entering function.\n",
      "Result is 5.\n",
      "Entering function.\n",
      "Result is 25.\n",
      "199\n"
     ]
    }
   ],
   "source": [
    "import functools\n",
    "\n",
    "def better_decorator(f):\n",
    "    @functools.wraps(f)\n",
    "    def wrapper(*args, **kwargs):\n",
    "        print(\"Entering function.\")\n",
    "        result = f(*args,**kwargs)\n",
    "        \n",
    "        print (f\"Result is {result}.\")\n",
    "        return result\n",
    "    return wrapper\n",
    "\n",
    "@better_decorator\n",
    "def square(x):\n",
    "    return x**2\n",
    "\n",
    "\n",
    "\n",
    "@better_decorator\n",
    "def add_two(x):\n",
    "    return x+2\n",
    "\n",
    "answer = add_two(3)\n",
    "answer = square(5)\n",
    "print(answer)"
   ]
  },
  {
   "attachments": {},
   "cell_type": "markdown",
   "metadata": {},
   "source": [
    "This works really well to time your functions, or for debugging.."
   ]
  },
  {
   "cell_type": "code",
   "execution_count": 27,
   "metadata": {},
   "outputs": [
    {
     "name": "stdout",
     "output_type": "stream",
     "text": [
      "Calling squared(4)\n",
      "'squared' returned 16\n",
      "The function took 0.00000188 seconds to run.\n"
     ]
    },
    {
     "data": {
      "text/plain": [
       "16"
      ]
     },
     "execution_count": 27,
     "metadata": {},
     "output_type": "execute_result"
    }
   ],
   "source": [
    "import functools\n",
    "import time\n",
    "debug_on = True\n",
    "\n",
    "def debug(func):\n",
    "    \"\"\"Print the function signature and return value\"\"\"\n",
    "    @functools.wraps(func)\n",
    "    def wrapper_debug(*args, **kwargs):\n",
    "        if debug_on == True:\n",
    "            args_repr = [repr(a) for a in args]                      # 1\n",
    "            kwargs_repr = [f\"{k}={v!r}\" for k, v in kwargs.items()]  # 2\n",
    "            signature = \", \".join(args_repr + kwargs_repr)           # 3\n",
    "            print(f\"Calling {func.__name__}({signature})\")\n",
    "            tic = time.perf_counter()\n",
    "        value = func(*args, **kwargs)\n",
    "        if debug_on == True:\n",
    "            toc = time.perf_counter()\n",
    "            print(f\"{func.__name__!r} returned {value!r}\")           # 4\n",
    "            print(f\"The function took {toc-tic:0.8f} seconds to run.\")\n",
    "        return value\n",
    "    return wrapper_debug\n",
    "\n",
    "@debug\n",
    "def squared(x:int):\n",
    "    return x**2\n",
    "\n",
    "squared(4)\n",
    "\n",
    "debug_on = False\n",
    "squared(4)"
   ]
  },
  {
   "attachments": {},
   "cell_type": "markdown",
   "metadata": {},
   "source": [
    "## Decorators with parameters\n",
    "Sometimes it's helpful to create decorators with parameters.  "
   ]
  },
  {
   "cell_type": "code",
   "execution_count": 29,
   "metadata": {},
   "outputs": [
    {
     "name": "stdout",
     "output_type": "stream",
     "text": [
      "Hello bob\n",
      "Hello bob\n",
      "Hello bob\n"
     ]
    }
   ],
   "source": [
    "def repeat(num_times):\n",
    "    def decorator_repeat(func):\n",
    "        @functools.wraps(func)\n",
    "        def wrapper_repeat(*args, **kwargs):\n",
    "            for _ in range(num_times):\n",
    "                value = func(*args, **kwargs)\n",
    "            return value\n",
    "        return wrapper_repeat\n",
    "    return decorator_repeat\n",
    "\n",
    "@repeat(num_times=3)\n",
    "def greet(name):\n",
    "    print(f\"Hello {name}\")\n",
    "\n",
    "greet(\"bob\")"
   ]
  },
  {
   "attachments": {},
   "cell_type": "markdown",
   "metadata": {},
   "source": [
    "## Class decorator\n",
    "\n",
    "Sometimes it's helpful to decorate a class:\n"
   ]
  },
  {
   "cell_type": "code",
   "execution_count": 33,
   "metadata": {},
   "outputs": [
    {
     "name": "stdout",
     "output_type": "stream",
     "text": [
      "2.23606797749979\n"
     ]
    }
   ],
   "source": [
    "from dataclasses import dataclass\n",
    "from math import sqrt\n",
    "\n",
    "@dataclass\n",
    "class Coordiates:\n",
    "    x:int\n",
    "    y:int\n",
    "\n",
    "c = Coordiates(1,2)\n",
    "\n",
    "print (sqrt(c.x**2+c.y**2))\n",
    "\n"
   ]
  },
  {
   "attachments": {},
   "cell_type": "markdown",
   "metadata": {},
   "source": [
    "## Helpful built-in decorators\n",
    "\n",
    "- @abstract -- marks a class or its methods abstract.\n",
    "- @staticmethod -- makes a method static in a class\n",
    "- @property -- creates a property from a variable.\n",
    "- @classmethod -- makes a method a class method.\n",
    "- @lru_cache -- caches the results of a function. Use those results if the same parameters are passed later.\n",
    "- @contextmanager -- used for defining classes that manage context. (future lesson)\n",
    "- @cached_property\n"
   ]
  },
  {
   "cell_type": "code",
   "execution_count": 34,
   "metadata": {},
   "outputs": [
    {
     "name": "stdout",
     "output_type": "stream",
     "text": [
      "314.0\n",
      "314.0\n"
     ]
    }
   ],
   "source": [
    "from functools import cached_property\n",
    "\n",
    "\n",
    "class Circle:\n",
    "    def __init__(self, radius):\n",
    "        self.radius = radius\n",
    "\n",
    "    @cached_property\n",
    "    def area(self):\n",
    "        return 3.14 * self.radius ** 2\n",
    "\n",
    "\n",
    "circle = Circle(10)\n",
    "print(circle.area)\n",
    "# prints 314.0\n",
    "print(circle.area)\n",
    "# returns the cached result (314.0) directly"
   ]
  }
 ],
 "metadata": {
  "kernelspec": {
   "display_name": "Python 3",
   "language": "python",
   "name": "python3"
  },
  "language_info": {
   "codemirror_mode": {
    "name": "ipython",
    "version": 3
   },
   "file_extension": ".py",
   "mimetype": "text/x-python",
   "name": "python",
   "nbconvert_exporter": "python",
   "pygments_lexer": "ipython3",
   "version": "3.8.10"
  },
  "orig_nbformat": 4
 },
 "nbformat": 4,
 "nbformat_minor": 2
}
